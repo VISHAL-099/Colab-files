{
  "nbformat": 4,
  "nbformat_minor": 0,
  "metadata": {
    "colab": {
      "provenance": [],
      "collapsed_sections": [
        "avhD0Zy4dirT",
        "zalhM-FwdEqn",
        "vvDh28F1Xh5o",
        "YVG13jXQagNE"
      ],
      "include_colab_link": true
    },
    "kernelspec": {
      "name": "python3",
      "display_name": "Python 3"
    },
    "language_info": {
      "name": "python"
    }
  },
  "cells": [
    {
      "cell_type": "markdown",
      "metadata": {
        "id": "view-in-github",
        "colab_type": "text"
      },
      "source": [
        "<a href=\"https://colab.research.google.com/github/VISHAL-099/Colab-files/blob/main/Python_programing.ipynb\" target=\"_parent\"><img src=\"https://colab.research.google.com/assets/colab-badge.svg\" alt=\"Open In Colab\"/></a>"
      ]
    },
    {
      "cell_type": "markdown",
      "source": [
        "## Python Programming"
      ],
      "metadata": {
        "id": "uQhmBrNxW4Vs"
      }
    },
    {
      "cell_type": "markdown",
      "source": [
        "### variable declaration & usuage"
      ],
      "metadata": {
        "id": "avhD0Zy4dirT"
      }
    },
    {
      "cell_type": "code",
      "execution_count": null,
      "metadata": {
        "id": "_4TY067cahxv",
        "colab": {
          "base_uri": "https://localhost:8080/"
        },
        "outputId": "857938f5-1eb6-487b-d407-a6338cc6a937"
      },
      "outputs": [
        {
          "output_type": "stream",
          "name": "stdout",
          "text": [
            "10\n"
          ]
        }
      ],
      "source": [
        "a=10\n",
        "b=20\n",
        "# c language  int a=10;\n",
        "print(a)"
      ]
    },
    {
      "cell_type": "code",
      "source": [
        "print(a, a+15,b)"
      ],
      "metadata": {
        "colab": {
          "base_uri": "https://localhost:8080/"
        },
        "id": "jyU08K0TbME7",
        "outputId": "a78c27ff-f662-43bb-b7c7-4b748c2582f1"
      },
      "execution_count": null,
      "outputs": [
        {
          "output_type": "stream",
          "name": "stdout",
          "text": [
            "10 25 20\n"
          ]
        }
      ]
    },
    {
      "cell_type": "code",
      "source": [
        "c = a+b\n",
        "print(c)"
      ],
      "metadata": {
        "colab": {
          "base_uri": "https://localhost:8080/"
        },
        "id": "DI5QwYc-bMIC",
        "outputId": "67fbfd77-0435-459e-f96b-f41946d1956c"
      },
      "execution_count": null,
      "outputs": [
        {
          "output_type": "stream",
          "name": "stdout",
          "text": [
            "30\n"
          ]
        }
      ]
    },
    {
      "cell_type": "code",
      "source": [
        "sname = \"vishal\"   # sname is string variable\n",
        "print(sname)\n",
        "# single line comment\n",
        "sname = \"inder \"\n",
        "print(sname)"
      ],
      "metadata": {
        "colab": {
          "base_uri": "https://localhost:8080/"
        },
        "id": "gxkNDj3VcQNe",
        "outputId": "5e810ff7-70ef-441b-bddb-8d3da3bb976b"
      },
      "execution_count": null,
      "outputs": [
        {
          "output_type": "stream",
          "name": "stdout",
          "text": [
            "vishal\n",
            "inder \n"
          ]
        }
      ]
    },
    {
      "cell_type": "markdown",
      "source": [
        "### Datatype of variable"
      ],
      "metadata": {
        "id": "zalhM-FwdEqn"
      }
    },
    {
      "cell_type": "code",
      "source": [
        "print ( sname , type(sname))\n",
        "print (type (a) , type(b))\n",
        "# comment"
      ],
      "metadata": {
        "colab": {
          "base_uri": "https://localhost:8080/"
        },
        "id": "0LW3Nyz_c9Fy",
        "outputId": "bfcaa161-bca1-4b2c-efad-5819a701dad9"
      },
      "execution_count": null,
      "outputs": [
        {
          "output_type": "stream",
          "name": "stdout",
          "text": [
            "inder  <class 'str'>\n",
            "<class 'int'> <class 'int'>\n"
          ]
        }
      ]
    },
    {
      "cell_type": "code",
      "source": [
        "a=10\n",
        "print (a , type(a))"
      ],
      "metadata": {
        "colab": {
          "base_uri": "https://localhost:8080/"
        },
        "id": "7zhVo_GwdV8R",
        "outputId": "1fda1bd6-872d-4013-be66-5f72a902a836"
      },
      "execution_count": null,
      "outputs": [
        {
          "output_type": "stream",
          "name": "stdout",
          "text": [
            "10 <class 'int'>\n"
          ]
        }
      ]
    },
    {
      "cell_type": "code",
      "source": [
        "a=20.5\n",
        "print (a , type(a))"
      ],
      "metadata": {
        "colab": {
          "base_uri": "https://localhost:8080/"
        },
        "id": "lbGtevZ3duf1",
        "outputId": "0d6eb84d-7498-456f-c1b6-5da2211829b1"
      },
      "execution_count": null,
      "outputs": [
        {
          "output_type": "stream",
          "name": "stdout",
          "text": [
            "20.5 <class 'float'>\n"
          ]
        }
      ]
    },
    {
      "cell_type": "code",
      "source": [
        "a=2\n",
        "print (a , type(a))"
      ],
      "metadata": {
        "colab": {
          "base_uri": "https://localhost:8080/"
        },
        "id": "WJvPkYVld0vr",
        "outputId": "efebc3dd-1719-4719-c736-364623d9edc3"
      },
      "execution_count": null,
      "outputs": [
        {
          "output_type": "stream",
          "name": "stdout",
          "text": [
            "2 <class 'int'>\n"
          ]
        }
      ]
    },
    {
      "cell_type": "code",
      "source": [
        "print (a)\n",
        "del(a)\n",
        "print(b)"
      ],
      "metadata": {
        "colab": {
          "base_uri": "https://localhost:8080/",
          "height": 207
        },
        "id": "1GUUKUEreHWE",
        "outputId": "2c9847c7-3d8c-4f72-d8e4-44a77dbca8a7"
      },
      "execution_count": null,
      "outputs": [
        {
          "output_type": "error",
          "ename": "NameError",
          "evalue": "ignored",
          "traceback": [
            "\u001b[0;31m---------------------------------------------------------------------------\u001b[0m",
            "\u001b[0;31mNameError\u001b[0m                                 Traceback (most recent call last)",
            "\u001b[0;32m<ipython-input-11-cee54fa57ee0>\u001b[0m in \u001b[0;36m<cell line: 1>\u001b[0;34m()\u001b[0m\n\u001b[0;32m----> 1\u001b[0;31m \u001b[0mprint\u001b[0m \u001b[0;34m(\u001b[0m\u001b[0ma\u001b[0m\u001b[0;34m)\u001b[0m\u001b[0;34m\u001b[0m\u001b[0;34m\u001b[0m\u001b[0m\n\u001b[0m\u001b[1;32m      2\u001b[0m \u001b[0;32mdel\u001b[0m\u001b[0;34m(\u001b[0m\u001b[0ma\u001b[0m\u001b[0;34m)\u001b[0m\u001b[0;34m\u001b[0m\u001b[0;34m\u001b[0m\u001b[0m\n\u001b[1;32m      3\u001b[0m \u001b[0mprint\u001b[0m\u001b[0;34m(\u001b[0m\u001b[0mb\u001b[0m\u001b[0;34m)\u001b[0m\u001b[0;34m\u001b[0m\u001b[0;34m\u001b[0m\u001b[0m\n",
            "\u001b[0;31mNameError\u001b[0m: name 'a' is not defined"
          ]
        }
      ]
    },
    {
      "cell_type": "code",
      "source": [
        "a=10;b=20;c=30;\n",
        "print (a,b,c)"
      ],
      "metadata": {
        "colab": {
          "base_uri": "https://localhost:8080/"
        },
        "id": "-hna2fC9eKyD",
        "outputId": "df8d2abe-3f4d-4780-83fa-5f9b42448327"
      },
      "execution_count": null,
      "outputs": [
        {
          "output_type": "stream",
          "name": "stdout",
          "text": [
            "10 20 30\n"
          ]
        }
      ]
    },
    {
      "cell_type": "code",
      "source": [
        "aa  \\\n",
        "=  \\\n",
        "10\n",
        "print(aa)"
      ],
      "metadata": {
        "colab": {
          "base_uri": "https://localhost:8080/"
        },
        "id": "c-jaoF_Zezt5",
        "outputId": "9edcf1f2-bbc3-470f-d285-b647b6d1946e"
      },
      "execution_count": null,
      "outputs": [
        {
          "output_type": "stream",
          "name": "stdout",
          "text": [
            "10\n"
          ]
        }
      ]
    },
    {
      "cell_type": "code",
      "source": [
        "indiapop = 12345678987654\n",
        "print (indiapop)\n",
        "print(type(indiapop))"
      ],
      "metadata": {
        "id": "2A9FPFvee5fS",
        "colab": {
          "base_uri": "https://localhost:8080/"
        },
        "outputId": "d6f6e7eb-5182-421a-db83-a435a891a321"
      },
      "execution_count": null,
      "outputs": [
        {
          "output_type": "stream",
          "name": "stdout",
          "text": [
            "12345678987654\n",
            "<class 'int'>\n"
          ]
        }
      ]
    },
    {
      "cell_type": "code",
      "source": [
        "a1 = 10 + 20j\n",
        "a2 = -9j-8"
      ],
      "metadata": {
        "id": "-T5OupcbRqvy"
      },
      "execution_count": null,
      "outputs": []
    },
    {
      "cell_type": "code",
      "source": [
        "print (a1,a2)"
      ],
      "metadata": {
        "colab": {
          "base_uri": "https://localhost:8080/"
        },
        "id": "nEkqtI4AT-Pc",
        "outputId": "fcbba7d0-d5e6-4458-9b7d-398953f8cb68"
      },
      "execution_count": null,
      "outputs": [
        {
          "output_type": "stream",
          "name": "stdout",
          "text": [
            "(10+20j) (-8-9j)\n"
          ]
        }
      ]
    },
    {
      "cell_type": "code",
      "source": [
        "print (a1+a2)"
      ],
      "metadata": {
        "colab": {
          "base_uri": "https://localhost:8080/"
        },
        "id": "4NmrALhxT_xO",
        "outputId": "69459f38-272d-4d0c-e564-ef33c6693b76"
      },
      "execution_count": null,
      "outputs": [
        {
          "output_type": "stream",
          "name": "stdout",
          "text": [
            "(2+11j)\n"
          ]
        }
      ]
    },
    {
      "cell_type": "code",
      "source": [
        "print ( type(a1))"
      ],
      "metadata": {
        "colab": {
          "base_uri": "https://localhost:8080/"
        },
        "id": "AZldsYDnUJ4o",
        "outputId": "c6f2c5ab-1192-4f58-b830-c3659361f0f0"
      },
      "execution_count": null,
      "outputs": [
        {
          "output_type": "stream",
          "name": "stdout",
          "text": [
            "<class 'complex'>\n"
          ]
        }
      ]
    },
    {
      "cell_type": "code",
      "source": [],
      "metadata": {
        "id": "9L91SYqfUUPt"
      },
      "execution_count": null,
      "outputs": []
    },
    {
      "cell_type": "markdown",
      "source": [
        "## Operators"
      ],
      "metadata": {
        "id": "sN9zVQsjXAlB"
      }
    },
    {
      "cell_type": "markdown",
      "source": [
        "* unary ( only one operand)  # ++ , --\n",
        "* binary ( two operand)   # c= a+b\n",
        "* ternary ( three operand) # (condition) ? yes :no"
      ],
      "metadata": {
        "id": "ZmIR-vEQYfVH"
      }
    },
    {
      "cell_type": "markdown",
      "source": [
        "#### Arithmetic Operator"
      ],
      "metadata": {
        "id": "vvDh28F1Xh5o"
      }
    },
    {
      "cell_type": "code",
      "source": [
        "# +, - ,/ ,* , //"
      ],
      "metadata": {
        "id": "wjza5DRPXHxQ"
      },
      "execution_count": null,
      "outputs": []
    },
    {
      "cell_type": "code",
      "source": [
        "a=10;b=3;\n",
        "print(a/b)  # float"
      ],
      "metadata": {
        "colab": {
          "base_uri": "https://localhost:8080/"
        },
        "id": "RzaRBlmxXH0A",
        "outputId": "5fcec118-d869-4258-97c7-6ae528456dca"
      },
      "execution_count": null,
      "outputs": [
        {
          "output_type": "stream",
          "name": "stdout",
          "text": [
            "3.3333333333333335\n"
          ]
        }
      ]
    },
    {
      "cell_type": "code",
      "source": [
        "print(a//b)  # int part only"
      ],
      "metadata": {
        "colab": {
          "base_uri": "https://localhost:8080/"
        },
        "id": "NJXQyINYXr-h",
        "outputId": "8998bee9-e666-4dba-cb89-5a78f11310eb"
      },
      "execution_count": null,
      "outputs": [
        {
          "output_type": "stream",
          "name": "stdout",
          "text": [
            "3\n"
          ]
        }
      ]
    },
    {
      "cell_type": "code",
      "source": [
        "c=4 ; d=6;\n",
        "print(a+b*c)"
      ],
      "metadata": {
        "colab": {
          "base_uri": "https://localhost:8080/"
        },
        "id": "a2h9lSicX8OQ",
        "outputId": "658ae33c-2f36-4d8e-a2d7-b0d165fa8164"
      },
      "execution_count": null,
      "outputs": [
        {
          "output_type": "stream",
          "name": "stdout",
          "text": [
            "22\n"
          ]
        }
      ]
    },
    {
      "cell_type": "code",
      "source": [
        "print ( a, ++a)\n",
        "b = ++a  + ++a\n",
        "print ( a,b)"
      ],
      "metadata": {
        "colab": {
          "base_uri": "https://localhost:8080/"
        },
        "id": "NYpQpsDhZFtm",
        "outputId": "fbbdf474-e41c-4952-bc55-28b0e047c372"
      },
      "execution_count": null,
      "outputs": [
        {
          "output_type": "stream",
          "name": "stdout",
          "text": [
            "10 10\n",
            "10 20\n"
          ]
        }
      ]
    },
    {
      "cell_type": "code",
      "source": [
        "a=10; b=20; c=a;\n",
        "print (a,b,c)"
      ],
      "metadata": {
        "colab": {
          "base_uri": "https://localhost:8080/"
        },
        "id": "XPlOnaXrZFwq",
        "outputId": "a6f228e6-c19d-4f73-c893-aec6603b84b8"
      },
      "execution_count": null,
      "outputs": [
        {
          "output_type": "stream",
          "name": "stdout",
          "text": [
            "10 20 10\n"
          ]
        }
      ]
    },
    {
      "cell_type": "markdown",
      "source": [
        "### Comparision Operators"
      ],
      "metadata": {
        "id": "YVG13jXQagNE"
      }
    },
    {
      "cell_type": "code",
      "source": [
        "# > , < , >= , <= , != , <> , =="
      ],
      "metadata": {
        "id": "iCypQI6ZajqL"
      },
      "execution_count": null,
      "outputs": []
    },
    {
      "cell_type": "code",
      "source": [
        "opt1 = (a>b)\n",
        "print ( opt1 )"
      ],
      "metadata": {
        "colab": {
          "base_uri": "https://localhost:8080/"
        },
        "id": "3uRSjYKsZyq-",
        "outputId": "f7393bd5-4e8e-45d9-8f66-2c4d0b4ecd09"
      },
      "execution_count": null,
      "outputs": [
        {
          "output_type": "stream",
          "name": "stdout",
          "text": [
            "False\n"
          ]
        }
      ]
    },
    {
      "cell_type": "code",
      "source": [
        "isMarried = True"
      ],
      "metadata": {
        "id": "8TsO2IpsaC3h"
      },
      "execution_count": null,
      "outputs": []
    },
    {
      "cell_type": "code",
      "source": [
        "print (isMarried , type (isMarried))"
      ],
      "metadata": {
        "colab": {
          "base_uri": "https://localhost:8080/"
        },
        "id": "0FPwIeEjaPEd",
        "outputId": "3f6223d9-9d2c-4c05-cb03-c2ece22baee8"
      },
      "execution_count": null,
      "outputs": [
        {
          "output_type": "stream",
          "name": "stdout",
          "text": [
            "True <class 'bool'>\n"
          ]
        }
      ]
    },
    {
      "cell_type": "code",
      "source": [
        "print ( a == b)"
      ],
      "metadata": {
        "colab": {
          "base_uri": "https://localhost:8080/"
        },
        "id": "xX0cr5TPaRxc",
        "outputId": "3ca14c01-ec52-4e38-a08c-a8b3ad57e19c"
      },
      "execution_count": null,
      "outputs": [
        {
          "output_type": "stream",
          "name": "stdout",
          "text": [
            "False\n"
          ]
        }
      ]
    },
    {
      "cell_type": "markdown",
      "source": [
        "### Logical operators"
      ],
      "metadata": {
        "id": "mC_bMDFTbBS0"
      }
    },
    {
      "cell_type": "code",
      "source": [
        "# and or not\n",
        "# and - every condition should be true\n",
        "# or - anyone condition may be true"
      ],
      "metadata": {
        "id": "pAT0odOubgjC"
      },
      "execution_count": null,
      "outputs": []
    },
    {
      "cell_type": "code",
      "source": [
        "print (a,b,c)\n",
        "opt2 = a>5 or b>30\n",
        "opt2"
      ],
      "metadata": {
        "colab": {
          "base_uri": "https://localhost:8080/"
        },
        "id": "b2onb_7MawoN",
        "outputId": "348555ad-3592-4dc1-9a6b-c523589b406e"
      },
      "execution_count": null,
      "outputs": [
        {
          "output_type": "stream",
          "name": "stdout",
          "text": [
            "10 20 10\n"
          ]
        },
        {
          "output_type": "execute_result",
          "data": {
            "text/plain": [
              "True"
            ]
          },
          "metadata": {},
          "execution_count": 31
        }
      ]
    },
    {
      "cell_type": "code",
      "source": [
        "print (a>5 and b<30)\n",
        "print ( not (a>5 and b<30) )\n"
      ],
      "metadata": {
        "colab": {
          "base_uri": "https://localhost:8080/"
        },
        "id": "TnqgvCfubH-n",
        "outputId": "c74fa953-4251-4051-ad18-cd5561168d32"
      },
      "execution_count": null,
      "outputs": [
        {
          "output_type": "stream",
          "name": "stdout",
          "text": [
            "True\n",
            "False\n"
          ]
        }
      ]
    },
    {
      "cell_type": "code",
      "source": [
        "a=0\n",
        "print (a , not (a))"
      ],
      "metadata": {
        "colab": {
          "base_uri": "https://localhost:8080/"
        },
        "id": "4HXjFel7bs0T",
        "outputId": "5c8f4928-cb15-4bba-f0ed-c9a80dd56237"
      },
      "execution_count": null,
      "outputs": [
        {
          "output_type": "stream",
          "name": "stdout",
          "text": [
            "0 True\n"
          ]
        }
      ]
    },
    {
      "cell_type": "code",
      "source": [
        "# a =10\n",
        "# while(a){\n",
        "#\n",
        "# }"
      ],
      "metadata": {
        "id": "5A6COzu-cMe2"
      },
      "execution_count": null,
      "outputs": []
    },
    {
      "cell_type": "markdown",
      "source": [
        "### Assignment Operator"
      ],
      "metadata": {
        "id": "IIh0GhQ1dx0b"
      }
    },
    {
      "cell_type": "code",
      "source": [
        "print (a)\n",
        "a = a +10\n",
        "print (a)\n",
        "a+=10\n",
        "print (a)"
      ],
      "metadata": {
        "colab": {
          "base_uri": "https://localhost:8080/"
        },
        "id": "KFWP0NBhdz7a",
        "outputId": "e634540a-f0e9-40e3-9cd6-e24f395d9ed2"
      },
      "execution_count": null,
      "outputs": [
        {
          "output_type": "stream",
          "name": "stdout",
          "text": [
            "10\n",
            "20\n",
            "30\n"
          ]
        }
      ]
    },
    {
      "cell_type": "code",
      "source": [
        "# any arithmetic operator can be used in short cut notation\n",
        "# += , -= , *= ,/="
      ],
      "metadata": {
        "id": "KdLt4-0Wdz-P"
      },
      "execution_count": null,
      "outputs": []
    },
    {
      "cell_type": "code",
      "source": [
        "x=10\n",
        "print (x)"
      ],
      "metadata": {
        "colab": {
          "base_uri": "https://localhost:8080/"
        },
        "id": "zU1_YE6kldQl",
        "outputId": "460e03bd-cae0-4307-d207-e054e59cad91"
      },
      "execution_count": null,
      "outputs": [
        {
          "output_type": "stream",
          "name": "stdout",
          "text": [
            "10\n"
          ]
        }
      ]
    },
    {
      "cell_type": "code",
      "source": [
        "y=++x\n",
        "#print (x, x++)\n",
        "print(x,y)"
      ],
      "metadata": {
        "colab": {
          "base_uri": "https://localhost:8080/"
        },
        "id": "dRtP_T0elfvP",
        "outputId": "0e591965-2e99-4b72-a6ee-52e83a5deaf0"
      },
      "execution_count": null,
      "outputs": [
        {
          "output_type": "stream",
          "name": "stdout",
          "text": [
            "10 10\n"
          ]
        }
      ]
    },
    {
      "cell_type": "code",
      "source": [],
      "metadata": {
        "id": "m8R574L-lfx4"
      },
      "execution_count": null,
      "outputs": []
    },
    {
      "cell_type": "markdown",
      "source": [
        "### Bitwise Operator"
      ],
      "metadata": {
        "id": "N5jd0PsFeTdQ"
      }
    },
    {
      "cell_type": "markdown",
      "source": [
        "& , | , ^ , >> , <<"
      ],
      "metadata": {
        "id": "AARRW1S7elPM"
      }
    },
    {
      "cell_type": "code",
      "source": [
        "a= 10 ; b=12 ;\n",
        "print (a,b)\n",
        "c = a | b\n",
        "print (a&b, a|b , a^b)"
      ],
      "metadata": {
        "colab": {
          "base_uri": "https://localhost:8080/"
        },
        "id": "nDlIAg4geSx4",
        "outputId": "1d3c77f1-07a4-4e78-b462-d1ea01d8b977"
      },
      "execution_count": null,
      "outputs": [
        {
          "output_type": "stream",
          "name": "stdout",
          "text": [
            "10 12\n",
            "8 14 6\n"
          ]
        }
      ]
    },
    {
      "cell_type": "code",
      "source": [
        "data = 18\n",
        "key = 5\n",
        "ctext = data ^ key\n",
        "print (\"{0} ^ {1} is {2}\".format (data, key, ctext) )\n",
        "#print ( data, \" ^ \", key , \" is \" , ctext )\n",
        "#print (\" {0} string {1} was good {1} is ok   \".format (var1, var2, var3... ))"
      ],
      "metadata": {
        "colab": {
          "base_uri": "https://localhost:8080/"
        },
        "id": "F_5QIpp8efEP",
        "outputId": "8f7fb28d-a67e-460c-d4c7-ffaf8f6f008d"
      },
      "execution_count": null,
      "outputs": [
        {
          "output_type": "stream",
          "name": "stdout",
          "text": [
            "18 ^ 5 is 23\n"
          ]
        }
      ]
    },
    {
      "cell_type": "code",
      "source": [
        "ptext  = ctext  ^ key\n",
        "print (\"{0} ^ {1} is {2}\".format (ctext , key, ptext) )"
      ],
      "metadata": {
        "colab": {
          "base_uri": "https://localhost:8080/"
        },
        "id": "NDcRCZnJhXGW",
        "outputId": "c5710977-9f48-4527-b11b-a973130a0ce1"
      },
      "execution_count": null,
      "outputs": [
        {
          "output_type": "stream",
          "name": "stdout",
          "text": [
            "23 ^ 5 is 18\n"
          ]
        }
      ]
    },
    {
      "cell_type": "code",
      "source": [
        "rr  = ctext  ^ data\n",
        "print (\"{0} ^ {1} is {2}\".format (ctext , data, rr) )"
      ],
      "metadata": {
        "colab": {
          "base_uri": "https://localhost:8080/"
        },
        "id": "qdSnOu6NicFe",
        "outputId": "93b1e9b4-8833-4326-fd7f-ed169734779b"
      },
      "execution_count": null,
      "outputs": [
        {
          "output_type": "stream",
          "name": "stdout",
          "text": [
            "23 ^ 18 is 5\n"
          ]
        }
      ]
    },
    {
      "cell_type": "code",
      "source": [
        "a=1\n",
        "print (a, a<<1 , a<<2 , a<<3 )\n",
        "# shifting left is multiply by 2"
      ],
      "metadata": {
        "colab": {
          "base_uri": "https://localhost:8080/"
        },
        "id": "ovsk8ZtvjI99",
        "outputId": "b0f8d002-15b7-429b-d9ea-40e349badb32"
      },
      "execution_count": null,
      "outputs": [
        {
          "output_type": "stream",
          "name": "stdout",
          "text": [
            "1 2 4 8\n"
          ]
        }
      ]
    },
    {
      "cell_type": "code",
      "source": [
        "b=8\n",
        "print (b , b>>1,b>>2,b>>3 , b>>4)\n",
        "# shifting right is divide by 2"
      ],
      "metadata": {
        "colab": {
          "base_uri": "https://localhost:8080/"
        },
        "id": "DgIFuQ6Lophl",
        "outputId": "a2f0078d-c364-4717-9bcd-b8723fb144ae"
      },
      "execution_count": null,
      "outputs": [
        {
          "output_type": "stream",
          "name": "stdout",
          "text": [
            "8 4 2 1 0\n"
          ]
        }
      ]
    },
    {
      "cell_type": "code",
      "source": [
        "c= 13\n",
        "print( c , c>>1)"
      ],
      "metadata": {
        "colab": {
          "base_uri": "https://localhost:8080/"
        },
        "id": "LOOjxorLpAR4",
        "outputId": "a127c1fe-6bcb-40e9-c58f-628bf1937499"
      },
      "execution_count": null,
      "outputs": [
        {
          "output_type": "stream",
          "name": "stdout",
          "text": [
            "13 6\n"
          ]
        }
      ]
    },
    {
      "cell_type": "code",
      "source": [
        "print ( 1<<1 & 1)\n",
        "print ( 1<<1 | 1)"
      ],
      "metadata": {
        "colab": {
          "base_uri": "https://localhost:8080/"
        },
        "id": "2sas5fh1pAYH",
        "outputId": "8c76f4ed-9212-48a3-ac45-f4bfb7ce3326"
      },
      "execution_count": null,
      "outputs": [
        {
          "output_type": "stream",
          "name": "stdout",
          "text": [
            "0\n",
            "3\n"
          ]
        }
      ]
    },
    {
      "cell_type": "code",
      "source": [
        "print ( ((1<<1 & 1) <<1 &1) )\n",
        "print ( ((1<<1 | 1) <<1 |1) )"
      ],
      "metadata": {
        "colab": {
          "base_uri": "https://localhost:8080/"
        },
        "id": "RmG5yAssjJCK",
        "outputId": "40bf68b3-511a-4727-f51e-d26984a95d15"
      },
      "execution_count": null,
      "outputs": [
        {
          "output_type": "stream",
          "name": "stdout",
          "text": [
            "0\n",
            "7\n"
          ]
        }
      ]
    },
    {
      "cell_type": "code",
      "source": [
        "a=10\n",
        "print ( a & (1<<2) )"
      ],
      "metadata": {
        "colab": {
          "base_uri": "https://localhost:8080/"
        },
        "id": "aOHq4PqTmIdG",
        "outputId": "702de3f1-b9bb-4921-82bf-c267c4fc5716"
      },
      "execution_count": null,
      "outputs": [
        {
          "output_type": "stream",
          "name": "stdout",
          "text": [
            "0\n"
          ]
        }
      ]
    },
    {
      "cell_type": "code",
      "source": [
        "# check the bit value at third location from LSB\n",
        "#true /false\n",
        "a =10   #1010  1100->12\n",
        "opt1 = (( 1<<2 ) & a )\n",
        "print (opt1 == (1<<2))"
      ],
      "metadata": {
        "colab": {
          "base_uri": "https://localhost:8080/"
        },
        "id": "6ZQt4A6Am5zC",
        "outputId": "7f8e1bce-123d-445e-d542-31a93cc97a41"
      },
      "execution_count": null,
      "outputs": [
        {
          "output_type": "stream",
          "name": "stdout",
          "text": [
            "False\n"
          ]
        }
      ]
    },
    {
      "cell_type": "code",
      "source": [
        "#b=9  1001\n",
        "# need output as true false false true\n",
        "\n",
        "b=13  # 1101\n",
        "print ( (b & (1<<3) ) == (1<<3) , end= \" \" )\n",
        "print ( (b & (1<<2) ) == (1<<2) , end= \" \" )\n",
        "print ( (b & (1<<1) ) == (1<<1) , end= \" \" )\n",
        "print ( (b & (1<<0) ) == (1<<0) )"
      ],
      "metadata": {
        "colab": {
          "base_uri": "https://localhost:8080/"
        },
        "id": "PnPVgaDTqhsI",
        "outputId": "38cfa68b-60f3-448e-c5db-63b1bb5fa4e3"
      },
      "execution_count": null,
      "outputs": [
        {
          "output_type": "stream",
          "name": "stdout",
          "text": [
            "True True False True\n"
          ]
        }
      ]
    },
    {
      "cell_type": "code",
      "source": [
        "print ( bool(b & (1<<3) )  , end= \" \" )\n",
        "print ( bool(b & (1<<2) )  , end= \" \" )\n",
        "print ( bool(b & (1<<1) ) , end= \" \" )\n",
        "print ( bool(b & (1<<0) )   )"
      ],
      "metadata": {
        "colab": {
          "base_uri": "https://localhost:8080/"
        },
        "id": "wNc0kieevVth",
        "outputId": "7424fc7f-259f-4ecf-dc21-b261aa62dddc"
      },
      "execution_count": null,
      "outputs": [
        {
          "output_type": "stream",
          "name": "stdout",
          "text": [
            "True True False True\n"
          ]
        }
      ]
    },
    {
      "cell_type": "code",
      "source": [
        "print ( (b & (1<<3) ))\n",
        "x= (b & (1<<3) )\n",
        "print (bool(x))\n",
        "\n",
        "print ( (b & (1<<3) ))"
      ],
      "metadata": {
        "colab": {
          "base_uri": "https://localhost:8080/"
        },
        "id": "ItDzk-CBtVnZ",
        "outputId": "16b7f95f-affd-49ec-ce36-2072f9451b8d"
      },
      "execution_count": null,
      "outputs": [
        {
          "output_type": "stream",
          "name": "stdout",
          "text": [
            "8\n",
            "True\n"
          ]
        }
      ]
    },
    {
      "cell_type": "code",
      "source": [
        "print(  bool(0)  ,  bool(-1),  bool(-10) , bool(10) )"
      ],
      "metadata": {
        "colab": {
          "base_uri": "https://localhost:8080/"
        },
        "id": "JX0p3Nz2uMwS",
        "outputId": "1b78b984-aff4-48cc-aaad-dfd54a6dc7bc"
      },
      "execution_count": null,
      "outputs": [
        {
          "output_type": "stream",
          "name": "stdout",
          "text": [
            "False True True True\n"
          ]
        }
      ]
    },
    {
      "cell_type": "code",
      "source": [
        "b=25  # 11000\n",
        "cnt = (1<<4)\n",
        "print ( bool(b & cnt )  , end= \" \" )\n",
        "cnt = cnt>>1\n",
        "print ( bool(b & cnt )  , end= \" \" )\n",
        "cnt = cnt>>1\n",
        "print ( bool(b & cnt )  , end= \" \" )\n",
        "cnt = cnt>>1\n",
        "print ( bool(b & cnt )  , end= \" \" )\n",
        "cnt = cnt>>1\n",
        "print ( bool(b & cnt )  , end= \" \" )\n",
        "\n",
        ""
      ],
      "metadata": {
        "colab": {
          "base_uri": "https://localhost:8080/"
        },
        "id": "_vW2oH0iuMyr",
        "outputId": "3bbfb49f-e1e9-44a4-a5b2-ef4a09664f4e"
      },
      "execution_count": null,
      "outputs": [
        {
          "output_type": "stream",
          "name": "stdout",
          "text": [
            "True True False False True "
          ]
        }
      ]
    },
    {
      "cell_type": "markdown",
      "source": [
        "## Conditional Constructs"
      ],
      "metadata": {
        "id": "SM_6zRdIxADh"
      }
    },
    {
      "cell_type": "code",
      "source": [
        "# accept input from user\n",
        "a = int (input ( \"enter number \") )\n",
        "# print (a , type(a))\n",
        "r = a % 2\n",
        "\n",
        "if (r == 0) :\n",
        "  print(\"even number\" )\n",
        "else :\n",
        "  print (\"odd number \")"
      ],
      "metadata": {
        "colab": {
          "base_uri": "https://localhost:8080/"
        },
        "id": "5YiF1XqdxEOI",
        "outputId": "fb8542d5-81e4-4cb9-8de4-10e8b7675f70"
      },
      "execution_count": null,
      "outputs": [
        {
          "output_type": "stream",
          "name": "stdout",
          "text": [
            "enter number 77\n",
            "odd number \n"
          ]
        }
      ]
    },
    {
      "cell_type": "code",
      "source": [
        "# show the greatest\n",
        "a= int(input(\"enter 1st no\"))\n",
        "b= int(input(\"enter 2nd no\"))\n",
        "c= int(input(\"enter 3rd no\"))\n",
        "\n",
        "if a > b :\n",
        "  # conisder a\n",
        "  if ( a > c) :\n",
        "    print(a)\n",
        "  else :\n",
        "    print (c)  # should we check for n also\n",
        "else  :\n",
        "  # consider n2\n",
        "  if (b > c) :\n",
        "    print (b)\n",
        "  else  :\n",
        "    print (a)  # should we check for n3 also"
      ],
      "metadata": {
        "id": "E7glfC7Z2d30",
        "colab": {
          "base_uri": "https://localhost:8080/"
        },
        "outputId": "35ed6387-1785-446c-cece-d117f73d4fb5"
      },
      "execution_count": null,
      "outputs": [
        {
          "output_type": "stream",
          "name": "stdout",
          "text": [
            "enter 1st no40\n",
            "enter 2nd no50\n",
            "enter 3rd no60\n",
            "40\n"
          ]
        }
      ]
    },
    {
      "cell_type": "code",
      "source": [],
      "metadata": {
        "id": "GNzdW0Ax2d6x"
      },
      "execution_count": null,
      "outputs": []
    },
    {
      "cell_type": "code",
      "source": [
        "# accept three numbers from user in n1, n2, n3\n",
        "# print the middle one out of the three\n",
        "# consider numbers are not same"
      ],
      "metadata": {
        "id": "4k4n23KxxEQ0"
      },
      "execution_count": null,
      "outputs": []
    },
    {
      "cell_type": "code",
      "source": [
        "n1= int(input(\"enter 1st no\"))\n",
        "n2= int(input(\"enter 2nd no\"))\n",
        "n3= int(input(\"enter 3rd no\"))\n",
        "\n",
        "if(n1>n2):\n",
        "  if(n2>n3):\n",
        "    print(n2)\n",
        "  else:\n",
        "    if(n1>n3):\n",
        "      print(n3)\n",
        "    else:\n",
        "      print(n1)\n",
        "else:\n",
        "  if(n1>n3):\n",
        "     print(n1)\n",
        "  else:\n",
        "    if(n2>n3):\n",
        "      print(n3)\n",
        "    else:\n",
        "      print(n2)"
      ],
      "metadata": {
        "id": "vLfETwVrzPxa"
      },
      "execution_count": null,
      "outputs": []
    },
    {
      "cell_type": "code",
      "source": [],
      "metadata": {
        "id": "FkWwz-rfzP0R"
      },
      "execution_count": null,
      "outputs": []
    },
    {
      "cell_type": "markdown",
      "source": [
        "## Looping Constructs"
      ],
      "metadata": {
        "id": "3GdAntxrxEly"
      }
    },
    {
      "cell_type": "code",
      "source": [
        "i=10\n",
        "while (i<20):\n",
        "  print(i)\n",
        "  i = i+1\n"
      ],
      "metadata": {
        "colab": {
          "base_uri": "https://localhost:8080/"
        },
        "id": "bC8aYqw3xI_S",
        "outputId": "6dd21ad5-192b-4a5f-eabf-fdf43b8b58fa"
      },
      "execution_count": null,
      "outputs": [
        {
          "output_type": "stream",
          "name": "stdout",
          "text": [
            "10\n",
            "11\n",
            "12\n",
            "13\n",
            "14\n",
            "15\n",
            "16\n",
            "17\n",
            "18\n",
            "19\n"
          ]
        }
      ]
    },
    {
      "cell_type": "code",
      "source": [
        " # for (int i=0; i<10 ; i++){  ... }\n",
        "# print (range(5))\n",
        "for i in range (5) :\n",
        "  print (i)"
      ],
      "metadata": {
        "colab": {
          "base_uri": "https://localhost:8080/"
        },
        "id": "_cl87XNXxJCM",
        "outputId": "b84a55a0-4396-415a-acdf-ac3756d7471c"
      },
      "execution_count": null,
      "outputs": [
        {
          "output_type": "stream",
          "name": "stdout",
          "text": [
            "0\n",
            "1\n",
            "2\n",
            "3\n",
            "4\n"
          ]
        }
      ]
    },
    {
      "cell_type": "code",
      "source": [
        "for i in range (2,5) :\n",
        "  print (i)"
      ],
      "metadata": {
        "colab": {
          "base_uri": "https://localhost:8080/"
        },
        "id": "wVU3WneCA8Tz",
        "outputId": "add22452-551b-4997-be47-9b3c06423a72"
      },
      "execution_count": null,
      "outputs": [
        {
          "output_type": "stream",
          "name": "stdout",
          "text": [
            "2\n",
            "3\n",
            "4\n"
          ]
        }
      ]
    },
    {
      "cell_type": "code",
      "source": [
        "#range(start, stop[, step]) -\n",
        "for i in range (1,10,2) :\n",
        "  print (i)"
      ],
      "metadata": {
        "colab": {
          "base_uri": "https://localhost:8080/"
        },
        "id": "8a350hI9BcEl",
        "outputId": "dedbc4b9-f3c9-4f7c-c3f0-ec15011b3311"
      },
      "execution_count": null,
      "outputs": [
        {
          "output_type": "stream",
          "name": "stdout",
          "text": [
            "1\n",
            "3\n",
            "5\n",
            "7\n",
            "9\n"
          ]
        }
      ]
    },
    {
      "cell_type": "code",
      "source": [
        "for cnt in range(20,5,-3) :\n",
        "  print(cnt)\n",
        "else :"
      ],
      "metadata": {
        "colab": {
          "base_uri": "https://localhost:8080/"
        },
        "id": "GKmovPdEBwds",
        "outputId": "c4d14f9b-a734-46ee-8ded-87f5126405cb"
      },
      "execution_count": null,
      "outputs": [
        {
          "output_type": "stream",
          "name": "stdout",
          "text": [
            "20\n",
            "17\n",
            "14\n",
            "11\n",
            "8\n"
          ]
        }
      ]
    },
    {
      "cell_type": "code",
      "source": [
        "a = \"India is great country\"\n",
        "for i in a :\n",
        "  print(i)"
      ],
      "metadata": {
        "colab": {
          "base_uri": "https://localhost:8080/"
        },
        "id": "-n8RanACCCv2",
        "outputId": "63381fb4-9a80-4e86-f24b-84bfc5da6f90"
      },
      "execution_count": null,
      "outputs": [
        {
          "output_type": "stream",
          "name": "stdout",
          "text": [
            "I\n",
            "n\n",
            "d\n",
            "i\n",
            "a\n",
            " \n",
            "i\n",
            "s\n",
            " \n",
            "g\n",
            "r\n",
            "e\n",
            "a\n",
            "t\n",
            " \n",
            "c\n",
            "o\n",
            "u\n",
            "n\n",
            "t\n",
            "r\n",
            "y\n"
          ]
        }
      ]
    },
    {
      "cell_type": "code",
      "source": [
        "# count the number of i chars in given string\n",
        "str1 = \"I love my India\"\n",
        "cnt = 0\n",
        "for c in str1 :\n",
        "  if c =='i' or c =='I':\n",
        "    cnt = cnt + 1\n",
        "\n",
        "print(cnt)"
      ],
      "metadata": {
        "colab": {
          "base_uri": "https://localhost:8080/"
        },
        "id": "jbJUmOo2Cq8u",
        "outputId": "81c96337-dd86-4dec-da76-fb3d1d81c00c"
      },
      "execution_count": null,
      "outputs": [
        {
          "output_type": "stream",
          "name": "stdout",
          "text": [
            "3\n"
          ]
        }
      ]
    },
    {
      "cell_type": "code",
      "source": [
        "#str1.capitalize()\n",
        "s1 = ss = str1.lower()"
      ],
      "metadata": {
        "id": "LuqQZinrC4O0"
      },
      "execution_count": null,
      "outputs": []
    },
    {
      "cell_type": "code",
      "source": [
        "print (ss, s1)"
      ],
      "metadata": {
        "colab": {
          "base_uri": "https://localhost:8080/"
        },
        "id": "NgvM-wGODL9d",
        "outputId": "2732cc9f-d132-4909-8b12-fec9145f77d6"
      },
      "execution_count": null,
      "outputs": [
        {
          "output_type": "stream",
          "name": "stdout",
          "text": [
            "i love my india i love my india\n"
          ]
        }
      ]
    },
    {
      "cell_type": "code",
      "source": [],
      "metadata": {
        "id": "OEABMEgEDwda"
      },
      "execution_count": null,
      "outputs": []
    },
    {
      "cell_type": "markdown",
      "source": [
        "## Excercise"
      ],
      "metadata": {
        "id": "BAazBWq7D4b_"
      }
    },
    {
      "cell_type": "markdown",
      "source": [
        "1. Write program to check whether given number is\n",
        "prime or not\n",
        "2. Write a program to find those numbers which are\n",
        "divisible by 7 and multiple of 5, between 1500 and\n",
        "2700 (both included).\n",
        "3. Write a Python program to get the Fibonacci series\n",
        "between 0 to 50.\n",
        "4. Write a program to construct the pattern, using a\n",
        "nested for loop."
      ],
      "metadata": {
        "id": "0x1mazW9D6bG"
      }
    },
    {
      "cell_type": "markdown",
      "source": [
        "![image.png](data:image/png;base64,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)"
      ],
      "metadata": {
        "id": "TDJ7gWbJEJtn"
      }
    },
    {
      "cell_type": "code",
      "source": [
        "# fibonacci - 0 1 1 2 3 5 8 13..."
      ],
      "metadata": {
        "id": "qNJ0-De_D7jU"
      },
      "execution_count": null,
      "outputs": []
    },
    {
      "cell_type": "markdown",
      "source": [
        "![image.png](data:image/png;base64,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)"
      ],
      "metadata": {
        "id": "uHMrOuPlEPnt"
      }
    },
    {
      "cell_type": "markdown",
      "source": [
        "![image.png](data:image/png;base64,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)"
      ],
      "metadata": {
        "id": "ZbVoEj2aEU5x"
      }
    },
    {
      "cell_type": "markdown",
      "source": [
        "## Excercise result"
      ],
      "metadata": {
        "id": "uEWWuZx3-FLn"
      }
    },
    {
      "cell_type": "code",
      "source": [
        "#Q3 fibonacci\n",
        "# Write a python program to get the Fibonacci series between 0 to 50\n",
        "n = int ( input (\"Enter the number of terms needed in fibonacci series \"))\n",
        "f1,f2= 0,1\n",
        "if n == 1:\n",
        "  print (f1)\n",
        "elif n == 2:\n",
        "  print (f1,f2)\n",
        "else :\n",
        "  print ( f1,f2, end=\" \")\n",
        "  for i in range (3,n+1):\n",
        "    f3 = f1+f2\n",
        "    print ( f3,end =\" \")\n",
        "    f1=f2\n",
        "    f2=f3"
      ],
      "metadata": {
        "id": "pZc200YGEUbt",
        "colab": {
          "base_uri": "https://localhost:8080/"
        },
        "outputId": "fa4068dd-86f0-48b2-c6f7-9fcdcfb3c401"
      },
      "execution_count": null,
      "outputs": [
        {
          "output_type": "stream",
          "name": "stdout",
          "text": [
            "Enter the number of terms needed in fibonacci series 11\n",
            "0 1 1 2 4 8 16 32 64 128 256 "
          ]
        }
      ]
    },
    {
      "cell_type": "code",
      "source": [
        "x,y=0,1\n",
        "n=10\n",
        "sum=0\n",
        "print(x, end =\" \")\n",
        "for i in range(n-1):\n",
        "  sum=x+y\n",
        "  x=y\n",
        "  y=sum\n",
        "  print(x , end =\" \")"
      ],
      "metadata": {
        "colab": {
          "base_uri": "https://localhost:8080/"
        },
        "id": "ASmT_s0EC9ZI",
        "outputId": "e5e610c0-9660-4615-d25c-90f04bd242ff"
      },
      "execution_count": null,
      "outputs": [
        {
          "output_type": "stream",
          "name": "stdout",
          "text": [
            "0 1 1 2 3 5 8 13 21 34 55 "
          ]
        }
      ]
    },
    {
      "cell_type": "code",
      "source": [
        "#Q4\n",
        "ntime = 3\n",
        "ntime = int (input (\"enter the number of stars to be printed \"))\n",
        "for i in range(ntime):\n",
        "    for j in range(i):\n",
        "        print ('* ', end=\"\")\n",
        "    print('')\n",
        "for i in range(ntime,0,-1):\n",
        "    for j in range(i):\n",
        "        print('* ', end=\"\")\n",
        "    print('')"
      ],
      "metadata": {
        "colab": {
          "base_uri": "https://localhost:8080/"
        },
        "id": "Av2bRzsv-HV-",
        "outputId": "90da2467-0f7a-4710-ec85-e063ae71c6cd"
      },
      "execution_count": null,
      "outputs": [
        {
          "output_type": "stream",
          "name": "stdout",
          "text": [
            "enter the number of stars to be printed 6\n",
            "\n",
            "* \n",
            "* * \n",
            "* * * \n",
            "* * * * \n",
            "* * * * * \n",
            "* * * * * * \n",
            "* * * * * \n",
            "* * * * \n",
            "* * * \n",
            "* * \n",
            "* \n"
          ]
        }
      ]
    },
    {
      "cell_type": "code",
      "source": [
        "# display the multiples of given numbers\n",
        "# 6 output 2, 3\n",
        "\n",
        "n=10\n",
        "# n%x -0 this means display the number x\n",
        "#for x in range  ( 1, n):   # scenario 1\n",
        "for x in range (1, (n//2)+1 ):   # scenario 2\n",
        "  #print (x , end=\" \")\n",
        "  print (\"c \", end=\" \")\n",
        "  if n%x == 0 : print ( x , end=\" \")\n",
        "\n",
        "#{   what could be the range of x => 1....n/2    }\n",
        "# in scenario 1 the computation done for 9 times\n",
        "# whereas in scenarion 2 the computation is done for only 5 times ."
      ],
      "metadata": {
        "colab": {
          "base_uri": "https://localhost:8080/"
        },
        "id": "Df6_LwSj-Hbx",
        "outputId": "ebd11c23-741c-4d0c-d9bf-8205d4848b2d"
      },
      "execution_count": null,
      "outputs": [
        {
          "output_type": "stream",
          "name": "stdout",
          "text": [
            "c  1 c  2 c  c  c  5 c  c  c  c  "
          ]
        }
      ]
    },
    {
      "cell_type": "code",
      "source": [
        "# learn using nested loops\n",
        "# display all the multiples of number present in fibonacci series\n",
        "\n",
        "#code to print the fibonacci series  .. with n numbers\n",
        "x,y=0,1\n",
        "n=11\n",
        "sum=0\n",
        "print(x, end =\" \")\n",
        "for i in range(n-1):\n",
        "  sum=x+y\n",
        "  x=y\n",
        "  y=sum\n",
        "  print(x, end=\" :- \"  )\n",
        "  #check for the multiples of x { 1 ... x//2 +1}\n",
        "  for z in range (1, (x//2)+1 ):\n",
        "    if x%z == 0 : print (z , end=\" \")\n",
        "  print (\" \")"
      ],
      "metadata": {
        "colab": {
          "base_uri": "https://localhost:8080/"
        },
        "id": "24HxTyusGPkN",
        "outputId": "5482d29b-3da5-4c64-c726-d81df12e3846"
      },
      "execution_count": null,
      "outputs": [
        {
          "output_type": "stream",
          "name": "stdout",
          "text": [
            "0 1 :-  \n",
            "1 :-  \n",
            "2 :- 1  \n",
            "3 :- 1  \n",
            "5 :- 1  \n",
            "8 :- 1 2 4  \n",
            "13 :- 1  \n",
            "21 :- 1 3 7  \n",
            "34 :- 1 2 17  \n",
            "55 :- 1 5 11  \n"
          ]
        }
      ]
    },
    {
      "cell_type": "markdown",
      "source": [
        "## Type of Errors"
      ],
      "metadata": {
        "id": "vFBjk0riK-1r"
      }
    },
    {
      "cell_type": "markdown",
      "source": [
        "* Syntatic Error - compiler can figure out\n",
        "* Semantic Error - logical errors\n",
        "Program may run .... its inefficient , consume more resources/time"
      ],
      "metadata": {
        "id": "TGdZDZ45LAzr"
      }
    },
    {
      "cell_type": "markdown",
      "source": [
        "```\n",
        "1\n",
        "22\n",
        "333\n",
        "4444\n",
        "```\n"
      ],
      "metadata": {
        "id": "Qnn0CS6-RgBl"
      }
    },
    {
      "cell_type": "code",
      "source": [
        "# print pattern\n",
        "lines  = 4\n",
        "for n1 in range (1, lines+1):\n",
        "  #print (n1 )\n",
        "  #inner loop runs for n1 times\n",
        "  #for n2 in range (1, n1+1):\n",
        "  for n2 in range (0, n1):\n",
        "    print(  n1  , end=\" \")\n",
        "  print ( \" \")"
      ],
      "metadata": {
        "colab": {
          "base_uri": "https://localhost:8080/"
        },
        "id": "RWaGALfKRbt2",
        "outputId": "10980bdb-3c52-4063-9fa0-1538adc0d7d6"
      },
      "execution_count": null,
      "outputs": [
        {
          "output_type": "stream",
          "name": "stdout",
          "text": [
            "1  \n",
            "2 2  \n",
            "3 3 3  \n",
            "4 4 4 4  \n"
          ]
        }
      ]
    },
    {
      "cell_type": "markdown",
      "source": [
        "```\n",
        "   1\n",
        "  2 2\n",
        " 3 3 3\n",
        "4 4 4 4\n",
        "```"
      ],
      "metadata": {
        "id": "SokFhW-YU3Nf"
      }
    },
    {
      "cell_type": "code",
      "source": [
        " # print pattern\n",
        "lines  = 7\n",
        "for n1 in range (1, lines+1):\n",
        "  for blk in range (0 , lines-n1 ):\n",
        "    print (\" \", end =\"\")\n",
        "  for n2 in range (0, n1):\n",
        "    print(  n1  , end=\" \")\n",
        "  print ( \" \")"
      ],
      "metadata": {
        "colab": {
          "base_uri": "https://localhost:8080/"
        },
        "id": "E7pnzV9yRk81",
        "outputId": "be5c8801-98bd-4b32-9800-e5fd0747e222"
      },
      "execution_count": null,
      "outputs": [
        {
          "output_type": "stream",
          "name": "stdout",
          "text": [
            "      1  \n",
            "     2 2  \n",
            "    3 3 3  \n",
            "   4 4 4 4  \n",
            "  5 5 5 5 5  \n",
            " 6 6 6 6 6 6  \n",
            "7 7 7 7 7 7 7  \n"
          ]
        }
      ]
    },
    {
      "cell_type": "markdown",
      "source": [
        "```\n",
        "   1\n",
        "  2 2\n",
        " 3 3 3\n",
        "4 4 4 4\n",
        " 3 3 3\n",
        "  2 2\n",
        "   1\n",
        "```"
      ],
      "metadata": {
        "id": "wTMGEgFmYCb6"
      }
    },
    {
      "cell_type": "markdown",
      "source": [
        "```\n",
        "     1\n",
        "   1 2 1\n",
        " 1 2 3 2 1\n",
        "```"
      ],
      "metadata": {
        "id": "ZO1UlU7yYG44"
      }
    },
    {
      "cell_type": "markdown",
      "source": [
        "```\n",
        "     1\n",
        "   1 2 1\n",
        " 1 2 3 2 1\n",
        "   1 2 1\n",
        "     1\n",
        "```"
      ],
      "metadata": {
        "id": "LqKFKEZyYN2o"
      }
    },
    {
      "cell_type": "code",
      "source": [
        "# print pascals traingle from kanwar\n",
        "\n",
        "lines = 5\n",
        "\n",
        "for i in range(1, lines + 1):\n",
        "  # loop to print spaces\n",
        "  print(\" \" * (2 * (lines - i)), end=\"\")\n",
        "  #print numbers in increasing order\n",
        "  for j in range(0, i-1):  # i for normal\n",
        "    print(j+1, end=\" \")\n",
        "  # print numbers in decreasing order\n",
        "  for k in range(0, i):\n",
        "    print(i-k, end=\" \")\n",
        "  print()"
      ],
      "metadata": {
        "colab": {
          "base_uri": "https://localhost:8080/"
        },
        "id": "Z9UiFXlgKeyh",
        "outputId": "94a4030b-559d-46c9-fa50-3d7aa7ba0cb1"
      },
      "execution_count": null,
      "outputs": [
        {
          "output_type": "stream",
          "name": "stdout",
          "text": [
            "        1 \n",
            "      1 2 1 \n",
            "    1 2 3 2 1 \n",
            "  1 2 3 4 3 2 1 \n",
            "1 2 3 4 5 4 3 2 1 \n"
          ]
        }
      ]
    },
    {
      "cell_type": "code",
      "source": [
        "lines = 5\n",
        "\n",
        "for i in range(1, lines + 1):\n",
        "  # loop to print spaces\n",
        "  print((lines - i), end=\" \")"
      ],
      "metadata": {
        "colab": {
          "base_uri": "https://localhost:8080/"
        },
        "id": "n233B7qjPDJs",
        "outputId": "b018e694-7c21-4dfe-91d9-6e5fc0643359"
      },
      "execution_count": null,
      "outputs": [
        {
          "output_type": "stream",
          "name": "stdout",
          "text": [
            "4 3 2 1 0 "
          ]
        }
      ]
    },
    {
      "cell_type": "markdown",
      "source": [
        "### Strings\n"
      ],
      "metadata": {
        "id": "9WiY5prPQm-U"
      }
    },
    {
      "cell_type": "code",
      "source": [
        "print (\" * \" * 2)"
      ],
      "metadata": {
        "colab": {
          "base_uri": "https://localhost:8080/"
        },
        "id": "wO1h4FlaK8_E",
        "outputId": "ca823917-decf-4ff1-cf99-5fc11651b74f"
      },
      "execution_count": null,
      "outputs": [
        {
          "output_type": "stream",
          "name": "stdout",
          "text": [
            " *  * \n"
          ]
        }
      ]
    },
    {
      "cell_type": "code",
      "source": [
        "name1 = \"India\"\n",
        "for i in range(5):\n",
        "  print (name1 , end=\"\")\n"
      ],
      "metadata": {
        "colab": {
          "base_uri": "https://localhost:8080/"
        },
        "id": "nxlMwsBXK-Ck",
        "outputId": "58e28e32-8a19-4d56-c5f8-afaabbd88732"
      },
      "execution_count": null,
      "outputs": [
        {
          "output_type": "stream",
          "name": "stdout",
          "text": [
            "IndiaIndiaIndiaIndiaIndia"
          ]
        }
      ]
    },
    {
      "cell_type": "code",
      "source": [
        "print (name1 * 4)"
      ],
      "metadata": {
        "colab": {
          "base_uri": "https://localhost:8080/"
        },
        "id": "Pq9MMP-MLQRP",
        "outputId": "7710dfd0-c74c-4b17-acdd-42e2aaaa519e"
      },
      "execution_count": null,
      "outputs": [
        {
          "output_type": "stream",
          "name": "stdout",
          "text": [
            "IndiaIndiaIndiaIndia\n"
          ]
        }
      ]
    },
    {
      "cell_type": "code",
      "source": [
        "print (name1)"
      ],
      "metadata": {
        "colab": {
          "base_uri": "https://localhost:8080/"
        },
        "id": "rLvLGLEqQqyT",
        "outputId": "15ca1084-0818-4e1c-f523-83de0749ca12"
      },
      "execution_count": null,
      "outputs": [
        {
          "output_type": "stream",
          "name": "stdout",
          "text": [
            "India\n"
          ]
        }
      ]
    },
    {
      "cell_type": "code",
      "source": [
        "str2 = \" is great place.\"\n",
        "print (name1, str2)"
      ],
      "metadata": {
        "colab": {
          "base_uri": "https://localhost:8080/"
        },
        "id": "ayqCH28FQzla",
        "outputId": "41d994f1-afa2-4c92-8db7-f632ddaab2b5"
      },
      "execution_count": null,
      "outputs": [
        {
          "output_type": "stream",
          "name": "stdout",
          "text": [
            "India  is great place.\n"
          ]
        }
      ]
    },
    {
      "cell_type": "code",
      "source": [
        "print ( name1 + str2)"
      ],
      "metadata": {
        "colab": {
          "base_uri": "https://localhost:8080/"
        },
        "id": "7-siiafaQ7AA",
        "outputId": "c95155e9-7eaf-4a9b-ab1a-c6215adff6ca"
      },
      "execution_count": null,
      "outputs": [
        {
          "output_type": "stream",
          "name": "stdout",
          "text": [
            "India is great place.\n"
          ]
        }
      ]
    },
    {
      "cell_type": "code",
      "source": [
        "name1= \"INDIA\""
      ],
      "metadata": {
        "id": "_83wWOEyQ_L8"
      },
      "execution_count": null,
      "outputs": []
    },
    {
      "cell_type": "code",
      "source": [
        "print (name1)"
      ],
      "metadata": {
        "colab": {
          "base_uri": "https://localhost:8080/"
        },
        "id": "byVqlpwURPFb",
        "outputId": "05b08add-254a-48a1-fffb-4f8db1aa0947"
      },
      "execution_count": null,
      "outputs": [
        {
          "output_type": "stream",
          "name": "stdout",
          "text": [
            "INDIA\n"
          ]
        }
      ]
    },
    {
      "cell_type": "code",
      "source": [
        "name1.lower()"
      ],
      "metadata": {
        "colab": {
          "base_uri": "https://localhost:8080/",
          "height": 36
        },
        "id": "LfEGfsv6RRJI",
        "outputId": "dd7d3aa1-c1ba-49b5-95dc-ac0640bfe343"
      },
      "execution_count": null,
      "outputs": [
        {
          "output_type": "execute_result",
          "data": {
            "text/plain": [
              "'india'"
            ],
            "application/vnd.google.colaboratory.intrinsic+json": {
              "type": "string"
            }
          },
          "metadata": {},
          "execution_count": 26
        }
      ]
    },
    {
      "cell_type": "code",
      "source": [
        "print (name1 , name1.lower() , name1.isupper())"
      ],
      "metadata": {
        "colab": {
          "base_uri": "https://localhost:8080/"
        },
        "id": "i8uVmspKRVxu",
        "outputId": "ad36570c-d40c-4404-d0d2-8956d766bf4e"
      },
      "execution_count": null,
      "outputs": [
        {
          "output_type": "stream",
          "name": "stdout",
          "text": [
            "India india False\n"
          ]
        }
      ]
    },
    {
      "cell_type": "code",
      "source": [
        "print (\"India\".lower(), \"India\".isupper() , \"India\".upper().isupper().lower())"
      ],
      "metadata": {
        "colab": {
          "base_uri": "https://localhost:8080/",
          "height": 171
        },
        "id": "M2vkqq_5Ry0s",
        "outputId": "2ab2f3c8-52dd-4e9f-979a-623f24ae1ede"
      },
      "execution_count": null,
      "outputs": [
        {
          "output_type": "error",
          "ename": "AttributeError",
          "evalue": "ignored",
          "traceback": [
            "\u001b[0;31m---------------------------------------------------------------------------\u001b[0m",
            "\u001b[0;31mAttributeError\u001b[0m                            Traceback (most recent call last)",
            "\u001b[0;32m<ipython-input-12-d0bd84f4cc0d>\u001b[0m in \u001b[0;36m<cell line: 1>\u001b[0;34m()\u001b[0m\n\u001b[0;32m----> 1\u001b[0;31m \u001b[0mprint\u001b[0m \u001b[0;34m(\u001b[0m\u001b[0;34m\"India\"\u001b[0m\u001b[0;34m.\u001b[0m\u001b[0mlower\u001b[0m\u001b[0;34m(\u001b[0m\u001b[0;34m)\u001b[0m\u001b[0;34m,\u001b[0m \u001b[0;34m\"India\"\u001b[0m\u001b[0;34m.\u001b[0m\u001b[0misupper\u001b[0m\u001b[0;34m(\u001b[0m\u001b[0;34m)\u001b[0m \u001b[0;34m,\u001b[0m \u001b[0;34m\"India\"\u001b[0m\u001b[0;34m.\u001b[0m\u001b[0mupper\u001b[0m\u001b[0;34m(\u001b[0m\u001b[0;34m)\u001b[0m\u001b[0;34m.\u001b[0m\u001b[0misupper\u001b[0m\u001b[0;34m(\u001b[0m\u001b[0;34m)\u001b[0m\u001b[0;34m.\u001b[0m\u001b[0mlower\u001b[0m\u001b[0;34m(\u001b[0m\u001b[0;34m)\u001b[0m\u001b[0;34m)\u001b[0m\u001b[0;34m\u001b[0m\u001b[0;34m\u001b[0m\u001b[0m\n\u001b[0m",
            "\u001b[0;31mAttributeError\u001b[0m: 'bool' object has no attribute 'lower'"
          ]
        }
      ]
    },
    {
      "cell_type": "markdown",
      "source": [
        "print (\"India\".islower(), \"India\".isupper() , \"India\".upper().lower())"
      ],
      "metadata": {
        "id": "bQErTv7TSZSJ"
      }
    },
    {
      "cell_type": "code",
      "source": [
        "str1 = \"India is great.\"\n",
        "print (str1[0], str1[-1], str1[-2])"
      ],
      "metadata": {
        "colab": {
          "base_uri": "https://localhost:8080/"
        },
        "id": "PF2IwQsOTjUb",
        "outputId": "b73984ab-4c4e-4e27-852e-3f9100776a1b"
      },
      "execution_count": null,
      "outputs": [
        {
          "output_type": "stream",
          "name": "stdout",
          "text": [
            "I . t\n"
          ]
        }
      ]
    },
    {
      "cell_type": "code",
      "source": [
        "for i in range (5):\n",
        "  print (str1[i])"
      ],
      "metadata": {
        "colab": {
          "base_uri": "https://localhost:8080/"
        },
        "id": "OyQd3hv7UNUW",
        "outputId": "124671ac-5639-46f9-e6f2-013fae6e8e19"
      },
      "execution_count": null,
      "outputs": [
        {
          "output_type": "stream",
          "name": "stdout",
          "text": [
            "I\n",
            "n\n",
            "d\n",
            "i\n",
            "a\n"
          ]
        }
      ]
    },
    {
      "cell_type": "code",
      "source": [
        "# print alll characters from str1\n",
        "for i in range( len(str1)):\n",
        "  print (str1[i])"
      ],
      "metadata": {
        "colab": {
          "base_uri": "https://localhost:8080/"
        },
        "id": "UZKsDOH5VFNu",
        "outputId": "e34532d8-4c47-4880-f7cc-7027ad8ea98f"
      },
      "execution_count": null,
      "outputs": [
        {
          "output_type": "stream",
          "name": "stdout",
          "text": [
            "I\n",
            "n\n",
            "d\n",
            "i\n",
            "a\n",
            " \n",
            "i\n",
            "s\n",
            " \n",
            "g\n",
            "r\n",
            "e\n",
            "a\n",
            "t\n",
            ".\n"
          ]
        }
      ]
    },
    {
      "cell_type": "code",
      "source": [
        "for i in str1 :\n",
        "  print (i)"
      ],
      "metadata": {
        "colab": {
          "base_uri": "https://localhost:8080/"
        },
        "id": "ADuA1AvKVTbl",
        "outputId": "39f08010-8eca-4d60-8c1e-e0d78d0b9ed9"
      },
      "execution_count": null,
      "outputs": [
        {
          "output_type": "stream",
          "name": "stdout",
          "text": [
            "I\n",
            "n\n",
            "d\n",
            "i\n",
            "a\n",
            " \n",
            "i\n",
            "s\n",
            " \n",
            "g\n",
            "r\n",
            "e\n",
            "a\n",
            "t\n",
            ".\n"
          ]
        }
      ]
    },
    {
      "cell_type": "code",
      "source": [
        "#print (str1)\n",
        "#if 'x' in str1: print (\"true \")\n",
        "'x' in str1"
      ],
      "metadata": {
        "colab": {
          "base_uri": "https://localhost:8080/"
        },
        "id": "AZbISV7RVd7M",
        "outputId": "0cd7a124-9f86-4fb5-b424-7c70b55b690b"
      },
      "execution_count": null,
      "outputs": [
        {
          "output_type": "execute_result",
          "data": {
            "text/plain": [
              "False"
            ]
          },
          "metadata": {},
          "execution_count": 10
        }
      ]
    },
    {
      "cell_type": "code",
      "source": [
        "print (str1)\n",
        "#slicing\n",
        "print (str1[6:8])\n",
        "print (str1[:8])\n",
        "print (str1[6: ])\n",
        "print (str1[:])"
      ],
      "metadata": {
        "colab": {
          "base_uri": "https://localhost:8080/"
        },
        "id": "1RsFMU9Sa674",
        "outputId": "717a5bf5-32a1-443d-b0e4-ed97b5ff42bf"
      },
      "execution_count": null,
      "outputs": [
        {
          "output_type": "stream",
          "name": "stdout",
          "text": [
            "India is great.\n",
            "is\n",
            "India is\n",
            "is great.\n",
            "India is great.\n"
          ]
        }
      ]
    },
    {
      "cell_type": "code",
      "source": [
        "print (str1)\n",
        "str1[6] = \" \"\n",
        "# strings are immutable  / cannot change once initialized\n",
        ""
      ],
      "metadata": {
        "colab": {
          "base_uri": "https://localhost:8080/",
          "height": 244
        },
        "id": "V8g93NAeccFS",
        "outputId": "d37c07cc-3695-4998-f803-7f03ec31ab23"
      },
      "execution_count": null,
      "outputs": [
        {
          "output_type": "stream",
          "name": "stdout",
          "text": [
            "I love my India\n"
          ]
        },
        {
          "output_type": "error",
          "ename": "TypeError",
          "evalue": "ignored",
          "traceback": [
            "\u001b[0;31m---------------------------------------------------------------------------\u001b[0m",
            "\u001b[0;31mTypeError\u001b[0m                                 Traceback (most recent call last)",
            "\u001b[0;32m<ipython-input-18-3302b6eb7686>\u001b[0m in \u001b[0;36m<cell line: 2>\u001b[0;34m()\u001b[0m\n\u001b[1;32m      1\u001b[0m \u001b[0mprint\u001b[0m \u001b[0;34m(\u001b[0m\u001b[0mstr1\u001b[0m\u001b[0;34m)\u001b[0m\u001b[0;34m\u001b[0m\u001b[0;34m\u001b[0m\u001b[0m\n\u001b[0;32m----> 2\u001b[0;31m \u001b[0mstr1\u001b[0m\u001b[0;34m[\u001b[0m\u001b[0;36m6\u001b[0m\u001b[0;34m]\u001b[0m \u001b[0;34m=\u001b[0m \u001b[0;34m\" \"\u001b[0m\u001b[0;34m\u001b[0m\u001b[0;34m\u001b[0m\u001b[0m\n\u001b[0m\u001b[1;32m      3\u001b[0m \u001b[0;31m# strings are immutable  / cannot change once initialized\u001b[0m\u001b[0;34m\u001b[0m\u001b[0;34m\u001b[0m\u001b[0m\n\u001b[1;32m      4\u001b[0m \u001b[0;34m\u001b[0m\u001b[0m\n",
            "\u001b[0;31mTypeError\u001b[0m: 'str' object does not support item assignment"
          ]
        }
      ]
    },
    {
      "cell_type": "code",
      "source": [
        "str1 = \"India\"\n",
        "str2 = \"IndiA\"\n",
        "str1 <str2\n",
        "# ascii value is used to comparision character-by-character\n",
        "# A  - 65 , a-92  difference is 32 or 20 hexa"
      ],
      "metadata": {
        "colab": {
          "base_uri": "https://localhost:8080/"
        },
        "id": "rRGmYru-dENX",
        "outputId": "20e5168f-9b82-469c-c9ea-a935e6ba41aa"
      },
      "execution_count": null,
      "outputs": [
        {
          "output_type": "execute_result",
          "data": {
            "text/plain": [
              "False"
            ]
          },
          "metadata": {},
          "execution_count": 29
        }
      ]
    },
    {
      "cell_type": "code",
      "source": [
        "a=10\n",
        "a==20"
      ],
      "metadata": {
        "colab": {
          "base_uri": "https://localhost:8080/"
        },
        "id": "HAmBcP3ZWN4e",
        "outputId": "11d464ab-f97f-46c6-98a5-c77ad44072d3"
      },
      "execution_count": null,
      "outputs": [
        {
          "output_type": "execute_result",
          "data": {
            "text/plain": [
              "False"
            ]
          },
          "metadata": {},
          "execution_count": 11
        }
      ]
    },
    {
      "cell_type": "code",
      "source": [
        "for i in range(2,7):\n",
        "  print(str1[i])\n",
        "  # square bracket is used for subscript / index"
      ],
      "metadata": {
        "colab": {
          "base_uri": "https://localhost:8080/"
        },
        "id": "k5Dz5caoT8aD",
        "outputId": "640a209f-785d-4c6e-c102-9e2f718d38f0"
      },
      "execution_count": null,
      "outputs": [
        {
          "output_type": "stream",
          "name": "stdout",
          "text": [
            "d\n",
            "i\n",
            "a\n",
            " \n",
            "i\n"
          ]
        }
      ]
    },
    {
      "cell_type": "code",
      "source": [
        "str2 = \"India\"\n",
        "for i in range (len(str2)) :\n",
        "  #print (str2[i])\n",
        "  for k in range (i+1):\n",
        "    print (str2[i] , end = \"\")\n",
        "  print(\" \")"
      ],
      "metadata": {
        "colab": {
          "base_uri": "https://localhost:8080/"
        },
        "id": "TpseOXahVZyV",
        "outputId": "bff58b39-af5e-4802-f7e4-3aa65cf15070"
      },
      "execution_count": null,
      "outputs": [
        {
          "output_type": "stream",
          "name": "stdout",
          "text": [
            "I \n",
            "nn \n",
            "ddd \n",
            "iiii \n",
            "aaaaa \n"
          ]
        }
      ]
    },
    {
      "cell_type": "code",
      "source": [
        "str2 = \"India\"\n",
        "for i in range (len(str2)) :\n",
        "  print (str2[i]  * (i+1))\n",
        ""
      ],
      "metadata": {
        "colab": {
          "base_uri": "https://localhost:8080/"
        },
        "id": "vdD3VQYybEy1",
        "outputId": "ac855f67-177f-48a1-b022-b3097614ff1f"
      },
      "execution_count": null,
      "outputs": [
        {
          "output_type": "stream",
          "name": "stdout",
          "text": [
            "I\n",
            "nn\n",
            "ddd\n",
            "iiii\n",
            "aaaaa\n"
          ]
        }
      ]
    },
    {
      "cell_type": "markdown",
      "source": [
        "```\n",
        "    I\n",
        "   n n\n",
        "  d d d\n",
        " i i i i\n",
        "a a a a a\n",
        "```"
      ],
      "metadata": {
        "id": "tlK-JJ0BbV-5"
      }
    },
    {
      "cell_type": "markdown",
      "source": [
        "```\n",
        "       I\n",
        "     I n I\n",
        "   I n d n I\n",
        " I n d i d n I\n",
        "I n d i a i d n I\n",
        "```"
      ],
      "metadata": {
        "id": "0jfS4ZtvbdZc"
      }
    },
    {
      "cell_type": "markdown",
      "source": [
        "### String Excercise\n"
      ],
      "metadata": {
        "id": "kY9cOOteBHQC"
      }
    },
    {
      "cell_type": "markdown",
      "source": [
        "Q1  write a program to find the occurance of substring in given string\n",
        "str1 = \"Indians\"\n",
        "str2 = \"dia\"\n",
        "* it should print str2 or \"dia\" substring starts at offset 2 in given str1 pr \"Indians\"\n",
        "* if the substring doesnot exist e.g. \"xia\" it should print -1\n",
        "\n",
        "Q1a . find the interger2 in the given interger1.\n",
        "\n",
        "eg. integer1 = 98267462  interger2 =6\n",
        "\n",
        "output we need is 6 appeared 2 times\n",
        "\n",
        "Q2 write a program to count the occurance of substring in given string\n",
        "str1 = \"India is a great country and Indians make is best place to live.\"\n",
        "str2 = \"India\"\n",
        "* str2 is searched in str1 and number of times str2 appears in str1 should be returned\n",
        "*  In above example output is 2\n",
        "* other example if \"is\" is searched in str1 it should return 2.\n",
        "\n"
      ],
      "metadata": {
        "id": "lnAqz8miZsze"
      }
    },
    {
      "cell_type": "markdown",
      "source": [
        "Q3. check wheather the given string is palindrome or not\n",
        "\n",
        "e.g madam returns true\n",
        "\n",
        "India returns false\n",
        "\n",
        "* give five palindrome words in english language"
      ],
      "metadata": {
        "id": "m8K7wPSadY6P"
      }
    },
    {
      "cell_type": "markdown",
      "source": [
        "Q4. weight assigned to each characters e.g\n",
        "a-1,b-2,c-3....z-26\n",
        "\n",
        "Display the sum total of weights in a given string\n",
        "hero ( 8+5+18+15 = 46) output is 46\n",
        "\n",
        "Q5 .  show the word with highest weight in a given string\n",
        "str1 = \"India is a great country\"\n",
        "\n",
        "str1 has five words 12,15,1,42,54\n",
        " then the output is 54 .\n",
        "\n",
        "Q6 . arrange the words in a given string as per decresing order of their weight"
      ],
      "metadata": {
        "id": "j7QvltgqciHW"
      }
    },
    {
      "cell_type": "code",
      "source": [
        "str=\"abcz\"\n",
        "count=0\n",
        "str=str.lower()\n",
        "a-1,b-2, c-3\n",
        "for i in str:\n",
        "  count+=ord(i)-96\n",
        "print(count)"
      ],
      "metadata": {
        "colab": {
          "base_uri": "https://localhost:8080/"
        },
        "id": "YeZnhtsqrwlX",
        "outputId": "6d6171fd-9e49-4aff-ea5f-6a9b7b2f0b00"
      },
      "execution_count": null,
      "outputs": [
        {
          "output_type": "stream",
          "name": "stdout",
          "text": [
            "32\n"
          ]
        }
      ]
    },
    {
      "cell_type": "code",
      "source": [
        "#a-1,b-2, c-3\n",
        "# loop to print a-z\n",
        "for k in range ( 65,91) :\n",
        "  print ( chr(k), k-64 )"
      ],
      "metadata": {
        "colab": {
          "base_uri": "https://localhost:8080/"
        },
        "id": "r5SFzK3hsEim",
        "outputId": "878d0ba0-4a87-46ec-9b88-3077df486095"
      },
      "execution_count": null,
      "outputs": [
        {
          "output_type": "stream",
          "name": "stdout",
          "text": [
            "A 1\n",
            "B 2\n",
            "C 3\n",
            "D 4\n",
            "E 5\n",
            "F 6\n",
            "G 7\n",
            "H 8\n",
            "I 9\n",
            "J 10\n",
            "K 11\n",
            "L 12\n",
            "M 13\n",
            "N 14\n",
            "O 15\n",
            "P 16\n",
            "Q 17\n",
            "R 18\n",
            "S 19\n",
            "T 20\n",
            "U 21\n",
            "V 22\n",
            "W 23\n",
            "X 24\n",
            "Y 25\n",
            "Z 26\n"
          ]
        }
      ]
    },
    {
      "cell_type": "code",
      "source": [
        "str1 = \"xyz\"\n",
        "print( ord(str1[0])-96, ord(str1[1])-96 ,  ord(str1[2])-96 )"
      ],
      "metadata": {
        "colab": {
          "base_uri": "https://localhost:8080/"
        },
        "id": "f3qp6Pejts22",
        "outputId": "34a59f1b-61db-4a42-9e76-aeb0de9dcf91"
      },
      "execution_count": null,
      "outputs": [
        {
          "output_type": "stream",
          "name": "stdout",
          "text": [
            "24 25 26\n"
          ]
        }
      ]
    },
    {
      "cell_type": "code",
      "source": [
        "str1 = \"abcxyz\"\n",
        "for c in range(len(str1)):\n",
        "  #print (str1[c])\n",
        "  print (str1[c], ord(str1[c])-96)"
      ],
      "metadata": {
        "colab": {
          "base_uri": "https://localhost:8080/"
        },
        "id": "0JZ7RVNQuDYt",
        "outputId": "c6cb277a-9a3a-447d-97ad-3fb937b866d5"
      },
      "execution_count": null,
      "outputs": [
        {
          "output_type": "stream",
          "name": "stdout",
          "text": [
            "a 1\n",
            "b 2\n",
            "c 3\n",
            "x 24\n",
            "y 25\n",
            "z 26\n"
          ]
        }
      ]
    },
    {
      "cell_type": "code",
      "source": [
        "res = 0\n",
        "str1 = \"abcxy\"\n",
        "for c in range(len(str1)):\n",
        "  #print (str1[c])\n",
        "  res = res + (ord(str1[c])-96)\n",
        "  print (str1[c], ord(str1[c])-96)\n",
        "print(res)"
      ],
      "metadata": {
        "colab": {
          "base_uri": "https://localhost:8080/"
        },
        "id": "jWgnDYNFuV8e",
        "outputId": "2bae7a17-a9a3-45ca-89e1-7355c5c98562"
      },
      "execution_count": null,
      "outputs": [
        {
          "output_type": "stream",
          "name": "stdout",
          "text": [
            "a 1\n",
            "b 2\n",
            "c 3\n",
            "x 24\n",
            "y 25\n",
            "55\n"
          ]
        }
      ]
    },
    {
      "cell_type": "code",
      "source": [],
      "metadata": {
        "id": "Eh19pAPouV_N"
      },
      "execution_count": null,
      "outputs": []
    },
    {
      "cell_type": "markdown",
      "source": [
        "##### Q1"
      ],
      "metadata": {
        "id": "svGK9EjyBRi_"
      }
    },
    {
      "cell_type": "code",
      "source": [
        "ALPHAS = \" abcdefghi\"\n",
        "print (ALPHAS [1])"
      ],
      "metadata": {
        "colab": {
          "base_uri": "https://localhost:8080/"
        },
        "id": "EcZLPFHEzElg",
        "outputId": "4171fa7a-7453-4156-8c2d-aab1d4522271"
      },
      "execution_count": null,
      "outputs": [
        {
          "output_type": "stream",
          "name": "stdout",
          "text": [
            "a\n"
          ]
        }
      ]
    },
    {
      "cell_type": "code",
      "source": [
        "s1 = 'a'\n",
        "s2= 'b'\n",
        "s3 = 'd'\n",
        "print(s1, s2, ord(s3)- ord('a') )"
      ],
      "metadata": {
        "colab": {
          "base_uri": "https://localhost:8080/"
        },
        "id": "zrCKuXH0zWB4",
        "outputId": "faae0d19-c7a1-4fff-d33e-c8af07e063d0"
      },
      "execution_count": null,
      "outputs": [
        {
          "output_type": "stream",
          "name": "stdout",
          "text": [
            "a b 3\n"
          ]
        }
      ]
    },
    {
      "cell_type": "code",
      "source": [
        "str1 = \"abzc\" # 1+2+3 ==6\n",
        "print ( ord(str1[0])-96, ord(str1[1])-96, ord(str1[2])-96)"
      ],
      "metadata": {
        "colab": {
          "base_uri": "https://localhost:8080/"
        },
        "id": "xTIoMXg3zWHH",
        "outputId": "89603d9d-f987-4e1b-d496-b1ebda6a6478"
      },
      "execution_count": null,
      "outputs": [
        {
          "output_type": "stream",
          "name": "stdout",
          "text": [
            "1 2 26\n"
          ]
        }
      ]
    },
    {
      "cell_type": "code",
      "source": [
        "res = 0\n",
        "for c in range (len(str1)):\n",
        "  print (str1[c] , ord(str1[c])-96)\n",
        "  res = res + ord(str1[c])-96\n",
        "print (res)"
      ],
      "metadata": {
        "colab": {
          "base_uri": "https://localhost:8080/"
        },
        "id": "ogaPMVGg0999",
        "outputId": "1712a5a8-c0e4-45fe-e743-bf7f60b243eb"
      },
      "execution_count": null,
      "outputs": [
        {
          "output_type": "stream",
          "name": "stdout",
          "text": [
            "a 1\n",
            "b 2\n",
            "z 26\n",
            "c 3\n",
            "32\n"
          ]
        }
      ]
    },
    {
      "cell_type": "code",
      "source": [
        "a=1; b=2;c=3;\n",
        "str1 = \"aab\"\n",
        "if str1 [0]=='a':\n",
        "\n",
        "if str1[0]=='b'\n",
        "\n",
        "if str1[0]=='b'"
      ],
      "metadata": {
        "id": "34giRMAB1sBm"
      },
      "execution_count": null,
      "outputs": []
    },
    {
      "cell_type": "markdown",
      "source": [],
      "metadata": {
        "id": "RLCN0vGcenPS"
      }
    },
    {
      "cell_type": "code",
      "source": [
        "# find the greatest number given in the list\n",
        "lst1 = [1000,114,55,23,93,25]\n",
        "for i in range(len(lst1)):\n",
        "  print(lst1[i])"
      ],
      "metadata": {
        "colab": {
          "base_uri": "https://localhost:8080/"
        },
        "id": "8GWmGKGXqirj",
        "outputId": "9c2350a2-b4af-4bdb-fe9d-50cc092f86b4"
      },
      "execution_count": null,
      "outputs": [
        {
          "output_type": "stream",
          "name": "stdout",
          "text": [
            "1000\n",
            "114\n",
            "55\n",
            "23\n",
            "93\n",
            "25\n"
          ]
        }
      ]
    },
    {
      "cell_type": "code",
      "source": [
        "# print all the even number give in the list not the odd numbers\n",
        "\n",
        "lst1 = [233,1000,114,55,23,93,25]\n",
        "for i in range(len(lst1)):\n",
        "  if (lst1[i]%2 == 0):\n",
        "    print(lst1[i])"
      ],
      "metadata": {
        "colab": {
          "base_uri": "https://localhost:8080/"
        },
        "id": "XhngT9yIqxym",
        "outputId": "8dd0716d-7acb-469e-f34a-eb33a4696716"
      },
      "execution_count": null,
      "outputs": [
        {
          "output_type": "stream",
          "name": "stdout",
          "text": [
            "1000\n",
            "114\n"
          ]
        }
      ]
    },
    {
      "cell_type": "code",
      "source": [
        "lst1 = [233,1000,114,55,23,93,25]\n",
        "for k in lst1:\n",
        "  if (k%2 ==0) :\n",
        "    print (k)"
      ],
      "metadata": {
        "colab": {
          "base_uri": "https://localhost:8080/"
        },
        "id": "TMF_0XRnvs1k",
        "outputId": "4b1fa830-458c-4659-af83-dca1794f2e18"
      },
      "execution_count": null,
      "outputs": [
        {
          "output_type": "stream",
          "name": "stdout",
          "text": [
            "1000\n",
            "114\n"
          ]
        }
      ]
    },
    {
      "cell_type": "code",
      "source": [
        "from sre_constants import CATEGORY_UNI_NOT_WORD\n",
        "# Display the count of Even and odd numbers not equal to zero\n",
        "# in the given list not the odd numbers\n",
        "lst1 = [233,0,114,55,23]\n",
        "output\n",
        "even = 1\n",
        "odd = 3\n",
        "HINT : take two counters\n",
        "counteven, countodd\n",
        "\n",
        "loop thru the given list\n",
        "   check for zero\n",
        "   check the number is even\n",
        "   if yes counteven = counteven+1\n",
        "   else countodd = countodd + 1\n",
        "\n",
        "End of loop\n",
        "print counteven, countodd"
      ],
      "metadata": {
        "colab": {
          "base_uri": "https://localhost:8080/"
        },
        "id": "xKlJ8Icevdnt",
        "outputId": "cb1a2c37-eead-4157-fad7-646d04b3002e"
      },
      "execution_count": null,
      "outputs": [
        {
          "output_type": "stream",
          "name": "stdout",
          "text": [
            "range(0, 6)\n"
          ]
        }
      ]
    },
    {
      "cell_type": "code",
      "source": [
        "lst1=[121,0,2,81,114] # print count of even and odd numbers in list\n",
        "counte=0\n",
        "counto=0\n",
        "for i in range(len(lst1)):\n",
        "    if lst1[i] == 0 : continue\n",
        "    if lst1[i]%2== 0:\n",
        "        counte=counte+1\n",
        "    else:\n",
        "        counto=counto+1\n",
        "\n",
        "print(\"no. of even elements: \",counte)\n",
        "print(\"no. of odd elements: \",counto)"
      ],
      "metadata": {
        "colab": {
          "base_uri": "https://localhost:8080/"
        },
        "id": "U_ujafF21G2F",
        "outputId": "bac7ca6e-5cb0-486e-c64a-d283458b4d07"
      },
      "execution_count": null,
      "outputs": [
        {
          "output_type": "stream",
          "name": "stdout",
          "text": [
            "no. of even elements:  0\n",
            "no. of odd elements:  1\n"
          ]
        }
      ]
    },
    {
      "cell_type": "code",
      "source": [
        "# Q1 : Display the count of numbers divisible by 5  and count of numbers divisible by 3\n",
        "# lst1 = [12,15,55,73,30,21,59]\n",
        "# Q2 : display the count of character 's' in string 'sun is synonymous to strength'"
      ],
      "metadata": {
        "id": "7BzO2rcG2TZp"
      },
      "execution_count": null,
      "outputs": []
    },
    {
      "cell_type": "code",
      "source": [
        "lst = [12,15,55,73,30,21,59]\n",
        "count = 0\n",
        "count1 = 0\n",
        "for i in lst:\n",
        "  if(i%3==0):\n",
        "   count = count + 1\n",
        "  if(i%5==0):\n",
        "    count1 = count1 +1\n",
        "print(\"Divisible by five \", count1)\n",
        "print(\"Divisible by three\", count)"
      ],
      "metadata": {
        "colab": {
          "base_uri": "https://localhost:8080/"
        },
        "id": "52nBzNgp2TmA",
        "outputId": "5f088eda-63ab-4b62-c56a-2ae0c8a34653"
      },
      "execution_count": null,
      "outputs": [
        {
          "output_type": "stream",
          "name": "stdout",
          "text": [
            "Divisible by five  3\n",
            "Divisible by three 4\n"
          ]
        }
      ]
    },
    {
      "cell_type": "code",
      "source": [
        "# Q2 : display the count of character 's' in string 'sun is synonymous to strength'\n",
        "str=\"sun is Synonymous to strength\"\n",
        "count=0\n",
        "for i in range(len(str)):\n",
        "  if str[i]==\"s\":\n",
        "    count=count+1\n",
        "print(count)\n",
        "#modify the code to check S/s both"
      ],
      "metadata": {
        "colab": {
          "base_uri": "https://localhost:8080/"
        },
        "id": "-ofFoBj37az9",
        "outputId": "12264684-ab93-43ac-e601-6cecf6010612"
      },
      "execution_count": null,
      "outputs": [
        {
          "output_type": "stream",
          "name": "stdout",
          "text": [
            "4\n"
          ]
        }
      ]
    },
    {
      "cell_type": "code",
      "source": [
        "lst1=[12,15,55,73,30,21,59] # print count of no. divisible by 5 and 3 together\n",
        "count=0\n",
        "for i in range(len(lst1)):\n",
        "     if (i%3==0) & (i%5==0):\n",
        "            count=count+1\n",
        "\n",
        "print(\"no. of elements in lst divible by 5 and 3: \",count)"
      ],
      "metadata": {
        "id": "rk7tHqwR8KYd"
      },
      "execution_count": null,
      "outputs": []
    },
    {
      "cell_type": "code",
      "source": [
        "str1='sun is synonymous to strength'\n",
        "str2='s'\n",
        "print(\"S appeared 5 times: \",str1.count(str2))"
      ],
      "metadata": {
        "colab": {
          "base_uri": "https://localhost:8080/"
        },
        "id": "60DiERUo7lmu",
        "outputId": "06981aa7-42d1-4f64-a5cb-e4875b3f3e1e"
      },
      "execution_count": null,
      "outputs": [
        {
          "output_type": "stream",
          "name": "stdout",
          "text": [
            "S appeared 5 times:  5\n"
          ]
        }
      ]
    },
    {
      "cell_type": "code",
      "source": [
        "#Q3. Given String India . Print the characters of the given string\n",
        "# no of time as per postional value\n",
        "Inndddiiiiaaaaa\n",
        "I(1)n(2)d(3)i(4)a(5)"
      ],
      "metadata": {
        "id": "mwNWYU8Y8T0F"
      },
      "execution_count": null,
      "outputs": []
    },
    {
      "cell_type": "code",
      "source": [
        "str1=\"India\"\n",
        "for i in range(0,len(str1)):\n",
        "    for j in range(0,i+1):\n",
        "        print(str1[i],end=\"\")"
      ],
      "metadata": {
        "colab": {
          "base_uri": "https://localhost:8080/"
        },
        "id": "twSNMbSCAM1L",
        "outputId": "9ad72111-f473-4032-a9db-e26030901cb4"
      },
      "execution_count": null,
      "outputs": [
        {
          "output_type": "stream",
          "name": "stdout",
          "text": [
            "Inndddiiiiaaaaa"
          ]
        }
      ]
    },
    {
      "cell_type": "code",
      "source": [
        "#Q4. Given number 4783 . Print the numbers of the given integer number\n",
        "# no of time as per postional value\n",
        "4778883333\n",
        "4(1)7(2)8(3)3(4)"
      ],
      "metadata": {
        "id": "ErGjPlyN8T3-"
      },
      "execution_count": null,
      "outputs": []
    },
    {
      "cell_type": "code",
      "source": [
        "n1=5478\n",
        "print(n1, n1%10, (n1%100)//10 , (n1%1000)//100, (n1//1000) )"
      ],
      "metadata": {
        "colab": {
          "base_uri": "https://localhost:8080/"
        },
        "id": "Ifr19_OGAbU5",
        "outputId": "0ccc94d0-8b49-42bb-e249-7f18858f7efc"
      },
      "execution_count": null,
      "outputs": [
        {
          "output_type": "stream",
          "name": "stdout",
          "text": [
            "5478 8 7 4 5\n"
          ]
        }
      ]
    },
    {
      "cell_type": "code",
      "source": [
        "#Q5. Given number 4783 . Print the greatest digit out of the given number\n",
        "# output 8"
      ],
      "metadata": {
        "id": "VJXnIrnHCbHp"
      },
      "execution_count": null,
      "outputs": []
    },
    {
      "cell_type": "code",
      "source": [
        "#Q6. Given number 4783 . Print the reverse of the  given number\n",
        "# output 3874"
      ],
      "metadata": {
        "id": "Gl1uqgJRCrTW"
      },
      "execution_count": null,
      "outputs": []
    },
    {
      "cell_type": "code",
      "source": [
        "lst=[33,0,114,55,23]\n",
        "count=0\n",
        "for i in lst:\n",
        "  if i%2==0:\n",
        "    count=count+1\n",
        "print(\"even\", count)\n",
        "\n",
        "for j in lst:\n",
        "  if j%2==1:\n",
        "    count2=count2+1\n",
        "print(\"odd\", count2)"
      ],
      "metadata": {
        "id": "QTFMJK7EzQwC"
      },
      "execution_count": null,
      "outputs": []
    },
    {
      "cell_type": "code",
      "source": [
        "#display the count of even numbers in the given list\n",
        "\n",
        "lst1 = [1000,114,55,23,93,25]\n",
        "for i in range(len(lst1)):\n",
        "  print(lst1[i])"
      ],
      "metadata": {
        "id": "K-ziqnresOE3"
      },
      "execution_count": null,
      "outputs": []
    },
    {
      "cell_type": "code",
      "source": [
        "# find the greatest number given in the list\n",
        "lst1 = [1000,114,55,23,93,25]\n",
        "max = lst1[0]\n",
        "# print the greatest out of the lst1 without using any default method\n",
        "for i in lst1:\n",
        "  if max < i :\n",
        "    max = i\n",
        "print (max)"
      ],
      "metadata": {
        "colab": {
          "base_uri": "https://localhost:8080/"
        },
        "id": "8EIj77X-u_iG",
        "outputId": "c295b919-38bc-481a-95c9-64e693c2b3d8"
      },
      "execution_count": null,
      "outputs": [
        {
          "output_type": "stream",
          "name": "stdout",
          "text": [
            "1000\n"
          ]
        }
      ]
    },
    {
      "cell_type": "code",
      "source": [
        "# display the sum of digits in the given number\n",
        "# display the sum of digits in"
      ],
      "metadata": {
        "id": "WrFUyzOBstyn"
      },
      "execution_count": null,
      "outputs": []
    },
    {
      "cell_type": "code",
      "source": [
        "str1 = \"vinod\"\n",
        "for i in range(len(str1)):\n",
        "  print (\"i=\",i)\n",
        "  for k in range(i+1):\n",
        "    print(\"k=\",k)\n",
        "    print (str1[i])\n",
        "  print(\"-------\")"
      ],
      "metadata": {
        "colab": {
          "base_uri": "https://localhost:8080/"
        },
        "id": "ak_8ZCNob_52",
        "outputId": "01182bc6-aa39-4435-c4d8-8a615b728c90"
      },
      "execution_count": null,
      "outputs": [
        {
          "output_type": "stream",
          "name": "stdout",
          "text": [
            "i= 0\n",
            "k= 0\n",
            "v\n",
            "-------\n",
            "i= 1\n",
            "k= 0\n",
            "i\n",
            "k= 1\n",
            "i\n",
            "-------\n",
            "i= 2\n",
            "k= 0\n",
            "n\n",
            "k= 1\n",
            "n\n",
            "k= 2\n",
            "n\n",
            "-------\n",
            "i= 3\n",
            "k= 0\n",
            "o\n",
            "k= 1\n",
            "o\n",
            "k= 2\n",
            "o\n",
            "k= 3\n",
            "o\n",
            "-------\n",
            "i= 4\n",
            "k= 0\n",
            "d\n",
            "k= 1\n",
            "d\n",
            "k= 2\n",
            "d\n",
            "k= 3\n",
            "d\n",
            "k= 4\n",
            "d\n",
            "-------\n"
          ]
        }
      ]
    },
    {
      "cell_type": "code",
      "source": [
        "#Q1 write a program to find the occurance of substring in given string\n",
        "str1 = \"Indians\" ; str2 = \"dia\";\n",
        "print (str1, str2)"
      ],
      "metadata": {
        "colab": {
          "base_uri": "https://localhost:8080/"
        },
        "id": "lznhDDLMfMZR",
        "outputId": "1116d8e8-76f9-4e5a-d542-1c54777f4a7d"
      },
      "execution_count": null,
      "outputs": [
        {
          "output_type": "stream",
          "name": "stdout",
          "text": [
            "Indians dia\n"
          ]
        }
      ]
    },
    {
      "cell_type": "code",
      "source": [
        "# tranverse the first string\n",
        "for c in str1 :\n",
        "  print (c)"
      ],
      "metadata": {
        "colab": {
          "base_uri": "https://localhost:8080/"
        },
        "id": "87waBordfTJx",
        "outputId": "81f05dcb-8568-4197-838a-d8f09435086b"
      },
      "execution_count": null,
      "outputs": [
        {
          "output_type": "stream",
          "name": "stdout",
          "text": [
            "I\n",
            "n\n",
            "d\n",
            "i\n",
            "a\n",
            "n\n",
            "s\n"
          ]
        }
      ]
    },
    {
      "cell_type": "code",
      "source": [
        "# traverse the first string\n",
        "# display true if 'x' is present in str1 else display false\n",
        "str2 = 'I'\n",
        "if str2 in str1 :\n",
        "  print (\"true\")\n",
        "else : print (\"false \")\n"
      ],
      "metadata": {
        "colab": {
          "base_uri": "https://localhost:8080/"
        },
        "id": "LKjpgtqTfeTc",
        "outputId": "2ea780b6-af83-451e-d3b8-6fad3752f2b0"
      },
      "execution_count": null,
      "outputs": [
        {
          "output_type": "stream",
          "name": "stdout",
          "text": [
            "true\n"
          ]
        }
      ]
    },
    {
      "cell_type": "code",
      "source": [
        "# donot use in operator\n",
        "flag = 0\n",
        "str1 = \"Indians\"\n",
        "str2 = 'a'\n",
        "for c in str1 :\n",
        "  if str2 == c :\n",
        "    flag =1\n",
        "    break\n",
        "\n",
        "if flag == 1 :\n",
        "  print (\"true\")\n",
        "else :\n",
        "  print (\"false\")\n"
      ],
      "metadata": {
        "colab": {
          "base_uri": "https://localhost:8080/"
        },
        "id": "uWjwmcS0gL8T",
        "outputId": "c572eed0-432a-4322-f9ef-9b017e27dfce"
      },
      "execution_count": null,
      "outputs": [
        {
          "output_type": "stream",
          "name": "stdout",
          "text": [
            "true\n"
          ]
        }
      ]
    },
    {
      "cell_type": "code",
      "source": [
        "# donot use in operator\n",
        "flag = 0\n",
        "str1 = \"Indians\"\n",
        "str2 = 'ax'\n",
        "for c in str1 :  #one character at a time from given string\n",
        "  if str2[0] == c :\n",
        "    if str2[1] == str1[ ]\n",
        "    flag =1\n",
        "    break\n",
        "\n",
        "if flag == 1 :\n",
        "  print (\"true\")\n",
        "else :\n",
        "  print (\"false\")"
      ],
      "metadata": {
        "colab": {
          "base_uri": "https://localhost:8080/"
        },
        "id": "3uXMZKvuqdMF",
        "outputId": "79e3973b-1fce-4fa4-82bc-49943dfa1521"
      },
      "execution_count": null,
      "outputs": [
        {
          "output_type": "stream",
          "name": "stdout",
          "text": [
            "true\n"
          ]
        }
      ]
    },
    {
      "cell_type": "code",
      "source": [
        "# take 2\n",
        "flag = 0\n",
        "str1 = \"Indians\"\n",
        "str2 = 'nd'\n",
        "for c in range (len(str1)):\n",
        "  if str2[0] == str1[c]:\n",
        "    if str2[1] == str1[c+1] :\n",
        "      if str2[2] == str1[c+2] :\n",
        "        flag =1\n",
        "        break\n",
        "\n",
        "if flag == 1 :\n",
        "  print (\"true\")\n",
        "else :\n",
        "  print (\"false\")"
      ],
      "metadata": {
        "colab": {
          "base_uri": "https://localhost:8080/",
          "height": 241
        },
        "id": "u3xKuwpvrfdo",
        "outputId": "4b79c06b-9a77-4268-aa7d-795ef8f2f975"
      },
      "execution_count": null,
      "outputs": [
        {
          "output_type": "error",
          "ename": "IndexError",
          "evalue": "ignored",
          "traceback": [
            "\u001b[0;31m---------------------------------------------------------------------------\u001b[0m",
            "\u001b[0;31mIndexError\u001b[0m                                Traceback (most recent call last)",
            "\u001b[0;32m<ipython-input-62-5f2a06418ec8>\u001b[0m in \u001b[0;36m<module>\u001b[0;34m\u001b[0m\n\u001b[1;32m      5\u001b[0m   \u001b[0;32mif\u001b[0m \u001b[0mstr2\u001b[0m\u001b[0;34m[\u001b[0m\u001b[0;36m0\u001b[0m\u001b[0;34m]\u001b[0m \u001b[0;34m==\u001b[0m \u001b[0mstr1\u001b[0m\u001b[0;34m[\u001b[0m\u001b[0mc\u001b[0m\u001b[0;34m]\u001b[0m\u001b[0;34m:\u001b[0m\u001b[0;34m\u001b[0m\u001b[0;34m\u001b[0m\u001b[0m\n\u001b[1;32m      6\u001b[0m     \u001b[0;32mif\u001b[0m \u001b[0mstr2\u001b[0m\u001b[0;34m[\u001b[0m\u001b[0;36m1\u001b[0m\u001b[0;34m]\u001b[0m \u001b[0;34m==\u001b[0m \u001b[0mstr1\u001b[0m\u001b[0;34m[\u001b[0m\u001b[0mc\u001b[0m\u001b[0;34m+\u001b[0m\u001b[0;36m1\u001b[0m\u001b[0;34m]\u001b[0m \u001b[0;34m:\u001b[0m\u001b[0;34m\u001b[0m\u001b[0;34m\u001b[0m\u001b[0m\n\u001b[0;32m----> 7\u001b[0;31m       \u001b[0;32mif\u001b[0m \u001b[0mstr2\u001b[0m\u001b[0;34m[\u001b[0m\u001b[0;36m2\u001b[0m\u001b[0;34m]\u001b[0m \u001b[0;34m==\u001b[0m \u001b[0mstr1\u001b[0m\u001b[0;34m[\u001b[0m\u001b[0mc\u001b[0m\u001b[0;34m+\u001b[0m\u001b[0;36m2\u001b[0m\u001b[0;34m]\u001b[0m \u001b[0;34m:\u001b[0m\u001b[0;34m\u001b[0m\u001b[0;34m\u001b[0m\u001b[0m\n\u001b[0m\u001b[1;32m      8\u001b[0m         \u001b[0mflag\u001b[0m \u001b[0;34m=\u001b[0m\u001b[0;36m1\u001b[0m\u001b[0;34m\u001b[0m\u001b[0;34m\u001b[0m\u001b[0m\n\u001b[1;32m      9\u001b[0m         \u001b[0;32mbreak\u001b[0m\u001b[0;34m\u001b[0m\u001b[0;34m\u001b[0m\u001b[0m\n",
            "\u001b[0;31mIndexError\u001b[0m: string index out of range"
          ]
        }
      ]
    },
    {
      "cell_type": "code",
      "source": [
        "# take 3\n",
        "flag = 0\n",
        "str1 = \"Indians make India great\"\n",
        "str2 = 'in'\n",
        "for c in range (len(str1)):  #outer loop\n",
        "  if str2[0] == str1[c]:\n",
        "    flag = 1\n",
        "    # put loop till the end of str2\n",
        "    for k in range (len ( str2 )):   # inner loop\n",
        "      if str2 [k]  == str1 [c+k] :  pass #  print ('true')\n",
        "      else  : flag=0 # print('false')\n",
        "\n",
        "if flag == 1 :\n",
        "  print (\"true\")\n",
        "else :\n",
        "  print (\"false\")"
      ],
      "metadata": {
        "colab": {
          "base_uri": "https://localhost:8080/"
        },
        "id": "XeU2DqaWtAJH",
        "outputId": "694f04f4-fcf3-443a-c4f9-51e12ab4af38"
      },
      "execution_count": null,
      "outputs": [
        {
          "output_type": "stream",
          "name": "stdout",
          "text": [
            "true\n"
          ]
        }
      ]
    },
    {
      "cell_type": "code",
      "source": [
        "# take 4\n",
        "flag = 0\n",
        "str1 = \"Love is immortal. Prayers are way to God\"\n",
        "str2 = \"india\"\n",
        "for c in range( len(str1)) :    # outer loop\n",
        "  print( str1[c] , end =\" \")\n",
        "  for k in range(len(str2)):    # inner loop\n",
        "    print(str2[k], end =\"\")\n",
        "  print(\" \")"
      ],
      "metadata": {
        "colab": {
          "base_uri": "https://localhost:8080/"
        },
        "id": "vKpnoJImD2E5",
        "outputId": "25588cdd-5c4f-41fb-c8fd-89ec999aefb7"
      },
      "execution_count": null,
      "outputs": [
        {
          "output_type": "stream",
          "name": "stdout",
          "text": [
            "L india \n",
            "o india \n",
            "v india \n",
            "e india \n",
            "  india \n",
            "i india \n",
            "s india \n",
            "  india \n",
            "i india \n",
            "m india \n",
            "m india \n",
            "o india \n",
            "r india \n",
            "t india \n",
            "a india \n",
            "l india \n",
            ". india \n",
            "  india \n",
            "P india \n",
            "r india \n",
            "a india \n",
            "y india \n",
            "e india \n",
            "r india \n",
            "s india \n",
            "  india \n",
            "a india \n",
            "r india \n",
            "e india \n",
            "  india \n",
            "w india \n",
            "a india \n",
            "y india \n",
            "  india \n",
            "t india \n",
            "o india \n",
            "  india \n",
            "G india \n",
            "o india \n",
            "d india \n"
          ]
        }
      ]
    },
    {
      "cell_type": "code",
      "source": [
        "# take 5\n",
        "flag = 0\n",
        "str1 = \"India Is for Indian\"    #19\n",
        "str2 = \"Indi\"                  #5\n",
        "cnt = 0\n",
        "for c in range( len(str1)) :    # outer loop\n",
        "  print( str1[c] , end =\" \")\n",
        "  if str1[c]==str2[0]:          # if the character pointed by c is matching with first characterof str2 then\n",
        "                                # check for the rest of characters in str2\n",
        "    for k in range(len(str2)):    # inner loop\n",
        "      if str1[c+k] == str2[k]:print (\"*\", end=\" \")\n",
        "\n",
        "  print(\" \")"
      ],
      "metadata": {
        "colab": {
          "base_uri": "https://localhost:8080/"
        },
        "id": "5MCpXrrhGtNR",
        "outputId": "3fe2f588-2f39-405e-9167-2811bd4e02e9"
      },
      "execution_count": null,
      "outputs": [
        {
          "output_type": "stream",
          "name": "stdout",
          "text": [
            "I * * * *  \n",
            "n  \n",
            "d  \n",
            "i  \n",
            "a  \n",
            "   \n",
            "I *  \n",
            "s  \n",
            "   \n",
            "f  \n",
            "o  \n",
            "r  \n",
            "   \n",
            "I * * * *  \n",
            "n  \n",
            "d  \n",
            "i  \n",
            "a  \n",
            "n  \n"
          ]
        }
      ]
    },
    {
      "cell_type": "code",
      "source": [
        "str3 = \"India\"\n",
        "print (str3[0], str3[4])"
      ],
      "metadata": {
        "colab": {
          "base_uri": "https://localhost:8080/"
        },
        "id": "FKvBNma6GMZ_",
        "outputId": "abf9f87c-9c2c-419c-ae52-1f86783bc233"
      },
      "execution_count": null,
      "outputs": [
        {
          "output_type": "stream",
          "name": "stdout",
          "text": [
            "I a\n"
          ]
        }
      ]
    },
    {
      "cell_type": "code",
      "source": [
        "str3[0] = str3[4]"
      ],
      "metadata": {
        "id": "aW48ivM8riv5",
        "colab": {
          "base_uri": "https://localhost:8080/",
          "height": 169
        },
        "outputId": "ec6b5696-304c-4f96-de0c-3aafe5ea64f8"
      },
      "execution_count": null,
      "outputs": [
        {
          "output_type": "error",
          "ename": "TypeError",
          "evalue": "ignored",
          "traceback": [
            "\u001b[0;31m---------------------------------------------------------------------------\u001b[0m",
            "\u001b[0;31mTypeError\u001b[0m                                 Traceback (most recent call last)",
            "\u001b[0;32m<ipython-input-22-0ca817c8bae0>\u001b[0m in \u001b[0;36m<module>\u001b[0;34m\u001b[0m\n\u001b[0;32m----> 1\u001b[0;31m \u001b[0mstr3\u001b[0m\u001b[0;34m[\u001b[0m\u001b[0;36m0\u001b[0m\u001b[0;34m]\u001b[0m \u001b[0;34m=\u001b[0m \u001b[0mstr3\u001b[0m\u001b[0;34m[\u001b[0m\u001b[0;36m4\u001b[0m\u001b[0;34m]\u001b[0m\u001b[0;34m\u001b[0m\u001b[0;34m\u001b[0m\u001b[0m\n\u001b[0m",
            "\u001b[0;31mTypeError\u001b[0m: 'str' object does not support item assignment"
          ]
        }
      ]
    },
    {
      "cell_type": "code",
      "source": [],
      "metadata": {
        "id": "Se-oieEbwYKt"
      },
      "execution_count": null,
      "outputs": []
    },
    {
      "cell_type": "markdown",
      "source": [
        "## functions"
      ],
      "metadata": {
        "id": "B9V02jNfgKBU"
      }
    },
    {
      "cell_type": "code",
      "source": [
        "# Q4. weight assigned to each characters e.g a-1,b-2,c-3....z-26\n"
      ],
      "metadata": {
        "id": "MpgtnhKogJQf"
      },
      "execution_count": null,
      "outputs": []
    },
    {
      "cell_type": "code",
      "source": [
        "str1 = \"abcd\"\n",
        "res  = 0\n",
        "##### CODE ##############\n",
        "for i in str1  :\n",
        "  print (ord(i)-96)\n",
        "  res=res+ord(i)-96\n",
        "################\n",
        "print (res)"
      ],
      "metadata": {
        "colab": {
          "base_uri": "https://localhost:8080/"
        },
        "id": "gLj7A3gPgNvm",
        "outputId": "6df3b2fa-43a4-49a1-a6de-7c649730ee07"
      },
      "execution_count": null,
      "outputs": [
        {
          "output_type": "stream",
          "name": "stdout",
          "text": [
            "1\n",
            "2\n",
            "3\n",
            "4\n",
            "10\n"
          ]
        }
      ]
    },
    {
      "cell_type": "code",
      "source": [
        "# convert the above code into user defined functions\n",
        "def showWeight( myStr):\n",
        "  res = 0\n",
        "  for i in myStr :\n",
        "    res = res + ord(i)-96\n",
        "  print (res )"
      ],
      "metadata": {
        "id": "yUcP7ZbBgm4q"
      },
      "execution_count": null,
      "outputs": []
    },
    {
      "cell_type": "code",
      "source": [
        "def showWeight1( myStr):\n",
        "  '''\n",
        "  showWeight1 method accepts String and\n",
        "  returns the interger weight\n",
        "  '''\n",
        "  res = 0\n",
        "  for i in myStr :\n",
        "    res = res + ord(i)-96\n",
        "  return(res)"
      ],
      "metadata": {
        "id": "50BnL2f6jDSk"
      },
      "execution_count": null,
      "outputs": []
    },
    {
      "cell_type": "code",
      "source": [
        "ss1=\"india\"\n",
        "showWeight(ss1)\n",
        "showWeight1(ss1)"
      ],
      "metadata": {
        "colab": {
          "base_uri": "https://localhost:8080/"
        },
        "id": "b5TGES6OjQYM",
        "outputId": "9fcefd6e-04bd-47a6-ac06-ee5c836442d2"
      },
      "execution_count": null,
      "outputs": [
        {
          "output_type": "stream",
          "name": "stdout",
          "text": [
            "37\n"
          ]
        },
        {
          "output_type": "execute_result",
          "data": {
            "text/plain": [
              "37"
            ]
          },
          "metadata": {},
          "execution_count": 20
        }
      ]
    },
    {
      "cell_type": "code",
      "source": [
        "# rohit in Second method we assign returning value to a variable\n",
        "a1 = showWeight1(ss1)"
      ],
      "metadata": {
        "id": "wjAxUS2kjciX"
      },
      "execution_count": null,
      "outputs": []
    },
    {
      "cell_type": "code",
      "source": [
        "print (a1)"
      ],
      "metadata": {
        "colab": {
          "base_uri": "https://localhost:8080/"
        },
        "id": "4ha_O88zkRWu",
        "outputId": "138eb36e-4765-4fc4-e25d-81ef7c49f688"
      },
      "execution_count": null,
      "outputs": [
        {
          "output_type": "stream",
          "name": "stdout",
          "text": [
            "0\n"
          ]
        }
      ]
    },
    {
      "cell_type": "code",
      "source": [
        "a2 = showWeight(ss1)"
      ],
      "metadata": {
        "colab": {
          "base_uri": "https://localhost:8080/"
        },
        "id": "EmELKZADkSFh",
        "outputId": "d7ca0d81-42f6-40e3-b155-d80465d9dab4"
      },
      "execution_count": null,
      "outputs": [
        {
          "output_type": "stream",
          "name": "stdout",
          "text": [
            "0\n"
          ]
        }
      ]
    },
    {
      "cell_type": "code",
      "source": [
        "print(a2)"
      ],
      "metadata": {
        "colab": {
          "base_uri": "https://localhost:8080/"
        },
        "id": "Q_ZTZ0Gdklfl",
        "outputId": "d52d8ccf-5c79-4280-c219-3ab171266556"
      },
      "execution_count": null,
      "outputs": [
        {
          "output_type": "stream",
          "name": "stdout",
          "text": [
            "None\n"
          ]
        }
      ]
    },
    {
      "cell_type": "code",
      "source": [
        "# ways to call method / function\n",
        "str1 = \"abcd\"\n",
        "showWeight(str1)\n",
        "showWeight1(str1)"
      ],
      "metadata": {
        "colab": {
          "base_uri": "https://localhost:8080/"
        },
        "id": "Z0t1422XkmUL",
        "outputId": "fb1f0b98-ed47-42f9-89bf-32663689fc69"
      },
      "execution_count": null,
      "outputs": [
        {
          "output_type": "stream",
          "name": "stdout",
          "text": [
            "10\n"
          ]
        },
        {
          "output_type": "execute_result",
          "data": {
            "text/plain": [
              "10"
            ]
          },
          "metadata": {},
          "execution_count": 22
        }
      ]
    },
    {
      "cell_type": "code",
      "source": [
        "showWeight(str1) + showWeight(str1)  # not returning"
      ],
      "metadata": {
        "colab": {
          "base_uri": "https://localhost:8080/",
          "height": 205
        },
        "id": "YT4N-RSZmaoP",
        "outputId": "47fd7411-7717-41cc-bd28-2236e2876106"
      },
      "execution_count": null,
      "outputs": [
        {
          "output_type": "stream",
          "name": "stdout",
          "text": [
            "10\n",
            "10\n"
          ]
        },
        {
          "output_type": "error",
          "ename": "TypeError",
          "evalue": "ignored",
          "traceback": [
            "\u001b[0;31m---------------------------------------------------------------------------\u001b[0m",
            "\u001b[0;31mTypeError\u001b[0m                                 Traceback (most recent call last)",
            "\u001b[0;32m<ipython-input-24-dc7c8c9aa3d8>\u001b[0m in \u001b[0;36m<module>\u001b[0;34m\u001b[0m\n\u001b[0;32m----> 1\u001b[0;31m \u001b[0mshowWeight\u001b[0m\u001b[0;34m(\u001b[0m\u001b[0mstr1\u001b[0m\u001b[0;34m)\u001b[0m \u001b[0;34m+\u001b[0m \u001b[0mshowWeight\u001b[0m\u001b[0;34m(\u001b[0m\u001b[0mstr1\u001b[0m\u001b[0;34m)\u001b[0m  \u001b[0;31m# not returning\u001b[0m\u001b[0;34m\u001b[0m\u001b[0;34m\u001b[0m\u001b[0m\n\u001b[0m",
            "\u001b[0;31mTypeError\u001b[0m: unsupported operand type(s) for +: 'NoneType' and 'NoneType'"
          ]
        }
      ]
    },
    {
      "cell_type": "code",
      "source": [
        "showWeight1(str1) + showWeight1(str1)  #  returning"
      ],
      "metadata": {
        "colab": {
          "base_uri": "https://localhost:8080/"
        },
        "id": "q2trGIiXmkxV",
        "outputId": "291798d3-f1ea-427a-cddd-d8286123c52a"
      },
      "execution_count": null,
      "outputs": [
        {
          "output_type": "execute_result",
          "data": {
            "text/plain": [
              "20"
            ]
          },
          "metadata": {},
          "execution_count": 23
        }
      ]
    },
    {
      "cell_type": "code",
      "source": [
        "10+10"
      ],
      "metadata": {
        "colab": {
          "base_uri": "https://localhost:8080/"
        },
        "id": "r0yT09dtnOjd",
        "outputId": "2229065f-96e1-42bf-cab1-b31025c41b67"
      },
      "execution_count": null,
      "outputs": [
        {
          "output_type": "execute_result",
          "data": {
            "text/plain": [
              "20"
            ]
          },
          "metadata": {},
          "execution_count": 25
        }
      ]
    },
    {
      "cell_type": "code",
      "source": [
        "print (\"10\") + print(\"10\")"
      ],
      "metadata": {
        "colab": {
          "base_uri": "https://localhost:8080/",
          "height": 205
        },
        "id": "3pyFHlCknQZg",
        "outputId": "556d9bd2-eea4-4113-e4a4-68d9edb71a6c"
      },
      "execution_count": null,
      "outputs": [
        {
          "output_type": "stream",
          "name": "stdout",
          "text": [
            "10\n",
            "10\n"
          ]
        },
        {
          "output_type": "error",
          "ename": "TypeError",
          "evalue": "ignored",
          "traceback": [
            "\u001b[0;31m---------------------------------------------------------------------------\u001b[0m",
            "\u001b[0;31mTypeError\u001b[0m                                 Traceback (most recent call last)",
            "\u001b[0;32m<ipython-input-26-c116ab1c7cd0>\u001b[0m in \u001b[0;36m<module>\u001b[0;34m\u001b[0m\n\u001b[0;32m----> 1\u001b[0;31m \u001b[0mprint\u001b[0m \u001b[0;34m(\u001b[0m\u001b[0;34m\"10\"\u001b[0m\u001b[0;34m)\u001b[0m \u001b[0;34m+\u001b[0m \u001b[0mprint\u001b[0m\u001b[0;34m(\u001b[0m\u001b[0;34m\"10\"\u001b[0m\u001b[0;34m)\u001b[0m\u001b[0;34m\u001b[0m\u001b[0;34m\u001b[0m\u001b[0m\n\u001b[0m",
            "\u001b[0;31mTypeError\u001b[0m: unsupported operand type(s) for +: 'NoneType' and 'NoneType'"
          ]
        }
      ]
    },
    {
      "cell_type": "code",
      "source": [
        "# getting the documentation of the method\n",
        "print ( showWeight1.__doc__)"
      ],
      "metadata": {
        "colab": {
          "base_uri": "https://localhost:8080/"
        },
        "id": "yGMScvNbnUkn",
        "outputId": "a2dc956e-91b3-4b77-da7a-cdc42c6a816f"
      },
      "execution_count": null,
      "outputs": [
        {
          "output_type": "stream",
          "name": "stdout",
          "text": [
            " \n",
            "  showWeight1 method accepts String and \n",
            "  returns the interger weight\n",
            "  \n"
          ]
        }
      ]
    },
    {
      "cell_type": "code",
      "source": [
        "print (str1 , str1.upper, str1.upper() )\n",
        "print ( str1.upper.__doc__)"
      ],
      "metadata": {
        "colab": {
          "base_uri": "https://localhost:8080/"
        },
        "id": "jSjh35erpG-b",
        "outputId": "9a0f0a89-bcd1-44d7-f048-1a16bea49359"
      },
      "execution_count": null,
      "outputs": [
        {
          "output_type": "stream",
          "name": "stdout",
          "text": [
            "abcd <built-in method upper of str object at 0x7fb5cf08ec70> ABCD\n",
            "Return a copy of the string converted to uppercase.\n"
          ]
        }
      ]
    },
    {
      "cell_type": "code",
      "source": [
        "showWeight1(\"India\")\n",
        "showWeight1(\"is\")\n"
      ],
      "metadata": {
        "colab": {
          "base_uri": "https://localhost:8080/"
        },
        "id": "gRkc0dI6pKfW",
        "outputId": "59c4e528-2887-4336-c1d0-9d4e4904b03d"
      },
      "execution_count": null,
      "outputs": [
        {
          "output_type": "execute_result",
          "data": {
            "text/plain": [
              "28"
            ]
          },
          "metadata": {},
          "execution_count": 35
        }
      ]
    },
    {
      "cell_type": "code",
      "source": [
        "print ( showWeight1(\"India\") )\n",
        "print (showWeight1(\"is\"))\n",
        "print ( showWeight1(\"India\")   + showWeight1(\"is\"))"
      ],
      "metadata": {
        "colab": {
          "base_uri": "https://localhost:8080/"
        },
        "id": "WuIunef0reur",
        "outputId": "e9800b0a-3ddd-4743-8fcc-cc3c63daa355"
      },
      "execution_count": null,
      "outputs": [
        {
          "output_type": "stream",
          "name": "stdout",
          "text": [
            "5\n",
            "28\n",
            "33\n"
          ]
        }
      ]
    },
    {
      "cell_type": "code",
      "source": [
        "lst1 = [29,4345,-657,-23,-4,-121]\n",
        "# write code to print the greatest from the given list\n",
        "max = lst1[0]\n",
        "for i in lst1 :\n",
        "  if i > max  :\n",
        "    max = i\n",
        "\n",
        "print(max)"
      ],
      "metadata": {
        "colab": {
          "base_uri": "https://localhost:8080/"
        },
        "id": "867rHb-Nr2D8",
        "outputId": "7bacfcc0-44ea-4b3d-dfe0-10a244a0fd80"
      },
      "execution_count": null,
      "outputs": [
        {
          "output_type": "stream",
          "name": "stdout",
          "text": [
            "4345\n"
          ]
        }
      ]
    },
    {
      "cell_type": "code",
      "source": [],
      "metadata": {
        "id": "i1bxC8NjsoyD"
      },
      "execution_count": null,
      "outputs": []
    },
    {
      "cell_type": "markdown",
      "source": [
        "## merging the code"
      ],
      "metadata": {
        "id": "GP1rPS5Xub0T"
      }
    },
    {
      "cell_type": "code",
      "source": [
        "# code 1 : calculate the weight of the given string\n",
        "def strWeight ( myStr):\n",
        "  '''\n",
        "  showWeight1 method accepts String and\n",
        "  returns the interger weight\n",
        "  '''\n",
        "  res = 0\n",
        "  for i in myStr :\n",
        "    res = res + ord(i)-96\n",
        "  return(res)"
      ],
      "metadata": {
        "id": "obxsfbefuvqi"
      },
      "execution_count": null,
      "outputs": []
    },
    {
      "cell_type": "code",
      "source": [
        "strWeight(\"ab\")"
      ],
      "metadata": {
        "colab": {
          "base_uri": "https://localhost:8080/"
        },
        "id": "WtffTroazUQE",
        "outputId": "3d14efa7-ddc8-499c-e216-d1c62a3b4f02"
      },
      "execution_count": null,
      "outputs": [
        {
          "output_type": "execute_result",
          "data": {
            "text/plain": [
              "3"
            ]
          },
          "metadata": {},
          "execution_count": 22
        }
      ]
    },
    {
      "cell_type": "code",
      "source": [
        "# code 2 : calculate the max\n",
        "lst1 = [29,45,657,-23,-4,-121]\n",
        "# write code to print the greatest from the given list\n",
        "max = lst1[0]\n",
        "for i in lst1 :\n",
        "  if i > max  :\n",
        "    max = i\n",
        "\n",
        "print(max)"
      ],
      "metadata": {
        "colab": {
          "base_uri": "https://localhost:8080/"
        },
        "id": "ZF3osse0u8L4",
        "outputId": "606df59b-aba4-459e-db4b-1cadee769129"
      },
      "execution_count": null,
      "outputs": [
        {
          "output_type": "stream",
          "name": "stdout",
          "text": [
            "657\n"
          ]
        }
      ]
    },
    {
      "cell_type": "code",
      "source": [
        "# code 3 : merge the code 1 and code 2\n",
        "str2 = \"india is my  and i am indian\"\n",
        "#calculate the weight of each word in given string - str2\n",
        "# then calculate the max out of these\n",
        "sweight = [] # create blank list\n",
        "newstr = str2.split()\n",
        "for s in newstr:\n",
        "  print(s , strWeight(s))\n",
        "  sweight.append(strWeight(s))\n",
        "print (sweight)\n",
        "\n",
        "max = sweight[0]\n",
        "for i in sweight :\n",
        "  if i > max  :\n",
        "    max = i\n",
        "\n",
        "print(max)"
      ],
      "metadata": {
        "id": "OaNmYj7Pu8PW",
        "colab": {
          "base_uri": "https://localhost:8080/"
        },
        "outputId": "184efe99-b4b5-4a7a-8be2-5678fab223c1"
      },
      "execution_count": null,
      "outputs": [
        {
          "output_type": "stream",
          "name": "stdout",
          "text": [
            "india 37\n",
            "is 28\n",
            "my 38\n",
            "and 19\n",
            "i 9\n",
            "am 14\n",
            "indian 51\n",
            "[37, 28, 38, 19, 9, 14, 51]\n",
            "51\n"
          ]
        }
      ]
    },
    {
      "cell_type": "code",
      "source": [
        "#str2 = \"abc ab abcd c\"\n",
        "#         6   3  10  3\n",
        "# output will be 10"
      ],
      "metadata": {
        "id": "rZzXtLPKzs8D"
      },
      "execution_count": null,
      "outputs": []
    },
    {
      "cell_type": "code",
      "source": [
        "str2 = \"africa and india is my country\"\n",
        "newstr = str2.split()\n",
        "print (newstr)\n",
        "max_str = \"\"\n",
        "max_weight = 0\n",
        "\n",
        "for i in newstr:\n",
        "    weight = 0\n",
        "    for char in i:\n",
        "        weight += (ord(char)-96)\n",
        "    print(i,\":\", weight)\n",
        "    if weight > max_weight:\n",
        "        max_str = i\n",
        "        max_weight = weight\n",
        "print(\"The maximum word is\",max_str,\":\", max_weight)"
      ],
      "metadata": {
        "colab": {
          "base_uri": "https://localhost:8080/"
        },
        "id": "6ml-mGzS0h6z",
        "outputId": "b634f98a-5def-4cfc-aec6-1f6c29d415c3"
      },
      "execution_count": null,
      "outputs": [
        {
          "output_type": "stream",
          "name": "stdout",
          "text": [
            "['africa', 'and', 'india', 'is', 'my', 'country']\n",
            "africa : 38\n",
            "and : 19\n",
            "india : 37\n",
            "is : 28\n",
            "my : 38\n",
            "country : 116\n",
            "The maximum word is country : 116\n"
          ]
        }
      ]
    },
    {
      "cell_type": "code",
      "source": [
        "#Sanjana code 3 : merge code 1 and code 2\n",
        "str2=\"India is my country\"\n",
        "# calculate the weight of each word in given string- str2\n",
        "# then calcuate the max out of these\n",
        "\n",
        "res=0\n",
        "max=str2[0]\n",
        "# print(str2[0])\n",
        "\n",
        "for num in str2:\n",
        "  res=res+ord(num)-96\n",
        "  if num > max:\n",
        "    max=num\n",
        "\n",
        "print(\"weight of string: \",res)\n",
        "print(\"the greatest out of the given string: \"+max)"
      ],
      "metadata": {
        "colab": {
          "base_uri": "https://localhost:8080/"
        },
        "id": "8rXrMx6c05wW",
        "outputId": "6b8e17a8-c241-4fba-85f4-4b9998743174"
      },
      "execution_count": null,
      "outputs": [
        {
          "output_type": "stream",
          "name": "stdout",
          "text": [
            "weight of string:  -5\n",
            "the greatest out of the given string: y\n"
          ]
        }
      ]
    },
    {
      "cell_type": "code",
      "source": [
        "# Amrit\n",
        "str2 = \"India is my country\"\n",
        "# Split the string into a list of words\n",
        "words = str2.split()\n",
        "# Calculate the weight of each word and find the maximum weight\n",
        "word_weights = []    #created empty list\n",
        "for word in words:\n",
        "    weight = sum(ord(c) - 96 for c in word.lower())\n",
        "    word_weights.append(weight)\n",
        "max_weight = max(word_weights)\n",
        "print(max_weight)"
      ],
      "metadata": {
        "colab": {
          "base_uri": "https://localhost:8080/",
          "height": 223
        },
        "id": "iwsyB5sn2F-K",
        "outputId": "c327b12d-fef1-44b1-8033-3a067c9563ba"
      },
      "execution_count": null,
      "outputs": [
        {
          "output_type": "error",
          "ename": "TypeError",
          "evalue": "ignored",
          "traceback": [
            "\u001b[0;31m---------------------------------------------------------------------------\u001b[0m",
            "\u001b[0;31mTypeError\u001b[0m                                 Traceback (most recent call last)",
            "\u001b[0;32m<ipython-input-14-d70ab1a3ed4e>\u001b[0m in \u001b[0;36m<module>\u001b[0;34m\u001b[0m\n\u001b[1;32m      8\u001b[0m     \u001b[0mweight\u001b[0m \u001b[0;34m=\u001b[0m \u001b[0msum\u001b[0m\u001b[0;34m(\u001b[0m\u001b[0mord\u001b[0m\u001b[0;34m(\u001b[0m\u001b[0mc\u001b[0m\u001b[0;34m)\u001b[0m \u001b[0;34m-\u001b[0m \u001b[0;36m96\u001b[0m \u001b[0;32mfor\u001b[0m \u001b[0mc\u001b[0m \u001b[0;32min\u001b[0m \u001b[0mword\u001b[0m\u001b[0;34m.\u001b[0m\u001b[0mlower\u001b[0m\u001b[0;34m(\u001b[0m\u001b[0;34m)\u001b[0m\u001b[0;34m)\u001b[0m\u001b[0;34m\u001b[0m\u001b[0;34m\u001b[0m\u001b[0m\n\u001b[1;32m      9\u001b[0m     \u001b[0mword_weights\u001b[0m\u001b[0;34m.\u001b[0m\u001b[0mappend\u001b[0m\u001b[0;34m(\u001b[0m\u001b[0mweight\u001b[0m\u001b[0;34m)\u001b[0m\u001b[0;34m\u001b[0m\u001b[0;34m\u001b[0m\u001b[0m\n\u001b[0;32m---> 10\u001b[0;31m \u001b[0mmax_weight\u001b[0m \u001b[0;34m=\u001b[0m \u001b[0mmax\u001b[0m\u001b[0;34m(\u001b[0m\u001b[0mword_weights\u001b[0m\u001b[0;34m)\u001b[0m\u001b[0;34m\u001b[0m\u001b[0;34m\u001b[0m\u001b[0m\n\u001b[0m\u001b[1;32m     11\u001b[0m \u001b[0mprint\u001b[0m\u001b[0;34m(\u001b[0m\u001b[0mmax_weight\u001b[0m\u001b[0;34m)\u001b[0m\u001b[0;34m\u001b[0m\u001b[0;34m\u001b[0m\u001b[0m\n",
            "\u001b[0;31mTypeError\u001b[0m: 'str' object is not callable"
          ]
        }
      ]
    },
    {
      "cell_type": "code",
      "source": [
        "a =10\n",
        "b = 20\n",
        "print (a, b )\n",
        "c, d  = b,a\n",
        "print(c,d )"
      ],
      "metadata": {
        "colab": {
          "base_uri": "https://localhost:8080/"
        },
        "id": "UEXSNCzc338I",
        "outputId": "86be7b24-65ab-44dc-9d16-908b736ddf46"
      },
      "execution_count": null,
      "outputs": [
        {
          "output_type": "stream",
          "name": "stdout",
          "text": [
            "10 20\n",
            "20 10\n"
          ]
        }
      ]
    },
    {
      "cell_type": "code",
      "source": [
        "def method1 ():\n",
        "  return 10, 20"
      ],
      "metadata": {
        "id": "XsJ1zlq433_M"
      },
      "execution_count": null,
      "outputs": []
    },
    {
      "cell_type": "code",
      "source": [
        "x  = method1()"
      ],
      "metadata": {
        "id": "CFPR0gDz4NHG"
      },
      "execution_count": null,
      "outputs": []
    },
    {
      "cell_type": "code",
      "source": [
        "print (x,y)"
      ],
      "metadata": {
        "colab": {
          "base_uri": "https://localhost:8080/"
        },
        "id": "CfxQJF4x4Pmd",
        "outputId": "428ec96b-a9cb-48c9-ff8e-146ee345942d"
      },
      "execution_count": null,
      "outputs": [
        {
          "output_type": "stream",
          "name": "stdout",
          "text": [
            "(10, 20) 20\n"
          ]
        }
      ]
    },
    {
      "cell_type": "code",
      "source": [
        "x,y,z = method1()\n",
        "print(x,y,z)"
      ],
      "metadata": {
        "colab": {
          "base_uri": "https://localhost:8080/",
          "height": 187
        },
        "id": "F00fYPZj4QwD",
        "outputId": "df388bba-83f3-4b05-cace-8003a89f4fd2"
      },
      "execution_count": null,
      "outputs": [
        {
          "output_type": "error",
          "ename": "ValueError",
          "evalue": "ignored",
          "traceback": [
            "\u001b[0;31m---------------------------------------------------------------------------\u001b[0m",
            "\u001b[0;31mValueError\u001b[0m                                Traceback (most recent call last)",
            "\u001b[0;32m<ipython-input-29-715617d0d3d8>\u001b[0m in \u001b[0;36m<module>\u001b[0;34m\u001b[0m\n\u001b[0;32m----> 1\u001b[0;31m \u001b[0mx\u001b[0m\u001b[0;34m,\u001b[0m\u001b[0my\u001b[0m\u001b[0;34m,\u001b[0m\u001b[0mz\u001b[0m \u001b[0;34m=\u001b[0m \u001b[0mmethod1\u001b[0m\u001b[0;34m(\u001b[0m\u001b[0;34m)\u001b[0m\u001b[0;34m\u001b[0m\u001b[0;34m\u001b[0m\u001b[0m\n\u001b[0m\u001b[1;32m      2\u001b[0m \u001b[0mprint\u001b[0m\u001b[0;34m(\u001b[0m\u001b[0mx\u001b[0m\u001b[0;34m,\u001b[0m\u001b[0my\u001b[0m\u001b[0;34m,\u001b[0m\u001b[0mz\u001b[0m\u001b[0;34m)\u001b[0m\u001b[0;34m\u001b[0m\u001b[0;34m\u001b[0m\u001b[0m\n",
            "\u001b[0;31mValueError\u001b[0m: not enough values to unpack (expected 3, got 2)"
          ]
        }
      ]
    },
    {
      "cell_type": "code",
      "source": [],
      "metadata": {
        "id": "CFacfyLb4d6C"
      },
      "execution_count": null,
      "outputs": []
    },
    {
      "cell_type": "markdown",
      "source": [
        "### Questions"
      ],
      "metadata": {
        "id": "wq3n80Yw5xOQ"
      }
    },
    {
      "cell_type": "markdown",
      "source": [
        "**donot use any built-in methods**\n",
        "\n",
        "1. Write a method to return the number of characters in given string  a-z A-Z\n",
        "\n",
        "2. Write a method to return the number of characters in given string  a-z A-Z\n",
        "Lower case and upper case seperately\n",
        "\n",
        "3. Write a method to return the number of words in given string\n"
      ],
      "metadata": {
        "id": "wNNK8iLY50kl"
      }
    },
    {
      "cell_type": "code",
      "source": [
        "myCount(\"Indian\")\n",
        "#output should be 6"
      ],
      "metadata": {
        "id": "2ZVaFOgK5zB_"
      },
      "execution_count": null,
      "outputs": []
    },
    {
      "cell_type": "code",
      "source": [
        "# print all the characters in a given string\n",
        "str1 = \"india\"\n",
        "cnt=0\n",
        "for i in range ( len(str1)):\n",
        "  #print(str1[i])\n",
        "  cnt = cnt+1\n",
        "print (cnt)"
      ],
      "metadata": {
        "colab": {
          "base_uri": "https://localhost:8080/"
        },
        "id": "f-ra9T_9-oIu",
        "outputId": "2ea53271-42e3-43f6-c6b5-a961bd348f60"
      },
      "execution_count": null,
      "outputs": [
        {
          "output_type": "stream",
          "name": "stdout",
          "text": [
            "5\n"
          ]
        }
      ]
    },
    {
      "cell_type": "code",
      "source": [
        "def myCount(str1):\n",
        "  cnt=0\n",
        "  for i in range ( len(str1)):\n",
        "    #print(str1[i])\n",
        "    cnt = cnt+1\n",
        "  print (cnt)"
      ],
      "metadata": {
        "id": "ktb7wIDD_ryi"
      },
      "execution_count": null,
      "outputs": []
    },
    {
      "cell_type": "code",
      "source": [
        "myCount(\"Helloindia\")"
      ],
      "metadata": {
        "colab": {
          "base_uri": "https://localhost:8080/"
        },
        "id": "KQeoAXyq_xiw",
        "outputId": "dea97f29-e71a-4cff-ddbb-890a5ce6da8a"
      },
      "execution_count": null,
      "outputs": [
        {
          "output_type": "stream",
          "name": "stdout",
          "text": [
            "10\n"
          ]
        }
      ]
    },
    {
      "cell_type": "code",
      "source": [
        "myCount(\"india\")"
      ],
      "metadata": {
        "colab": {
          "base_uri": "https://localhost:8080/"
        },
        "id": "yD4FvUK8_xl_",
        "outputId": "0942b11a-a44d-4231-c965-3caa046bf787"
      },
      "execution_count": null,
      "outputs": [
        {
          "output_type": "stream",
          "name": "stdout",
          "text": [
            "5\n"
          ]
        }
      ]
    },
    {
      "cell_type": "code",
      "source": [
        "st1 =\"HellO\"\n",
        "# display only characters in uppercase\n",
        "print(st1[0])\n",
        "print(ord('A'))\n",
        "print(ord('Z'))\n",
        "print(ord('a'))\n",
        "print(ord('z'))"
      ],
      "metadata": {
        "colab": {
          "base_uri": "https://localhost:8080/"
        },
        "id": "A6j4s01TAUHe",
        "outputId": "a8cf2de0-fce6-4c85-c16d-565d9f8bd59d"
      },
      "execution_count": null,
      "outputs": [
        {
          "output_type": "stream",
          "name": "stdout",
          "text": [
            "H\n",
            "65\n",
            "90\n",
            "97\n",
            "122\n"
          ]
        }
      ]
    },
    {
      "cell_type": "code",
      "source": [
        "st1 =\"HellO\"\n",
        "# display only characters in uppercase\n",
        "print(st1[0])\n",
        "if (ord(st1[0])>=65 and ord(st1[0])<=90): print(\"uppercase\")\n",
        "if (ord(st1[0])>=97 and ord(st1[0])<=122): print(\"Lowercase\")\n"
      ],
      "metadata": {
        "colab": {
          "base_uri": "https://localhost:8080/"
        },
        "id": "Ea26wZLZAULO",
        "outputId": "e3740a24-8fac-4514-983f-dfa2023eef8f"
      },
      "execution_count": null,
      "outputs": [
        {
          "output_type": "stream",
          "name": "stdout",
          "text": [
            "H\n",
            "uppercase\n"
          ]
        }
      ]
    },
    {
      "cell_type": "code",
      "source": [
        "# try the code in loop for each character in string\n",
        "for c in  st1 :\n",
        "  print(c)\n",
        "  if (ord(c)>=65 and ord(c)<=90): print(\"uppercase\")\n",
        "  if (ord(c)>=97 and ord(c)<=122): print(\"Lowercase\")"
      ],
      "metadata": {
        "colab": {
          "base_uri": "https://localhost:8080/"
        },
        "id": "h5TNtHiFB0pT",
        "outputId": "383f1e66-23d9-401e-a45f-1be7a3e6f0d9"
      },
      "execution_count": null,
      "outputs": [
        {
          "output_type": "stream",
          "name": "stdout",
          "text": [
            "H\n",
            "uppercase\n",
            "e\n",
            "Lowercase\n",
            "l\n",
            "Lowercase\n",
            "l\n",
            "Lowercase\n",
            "O\n",
            "uppercase\n"
          ]
        }
      ]
    },
    {
      "cell_type": "code",
      "source": [
        "# try the code in loop for each character in string\n",
        "st1 = \"InDiaNs\"\n",
        "lcount, ucount = 0,0\n",
        "for c in  st1 :\n",
        "  print(c)\n",
        "  if (ord(c)>=65 and ord(c)<=90): ucount  = ucount + 1\n",
        "  if (ord(c)>=97 and ord(c)<=122): lcount = lcount + 1\n",
        "\n",
        "print(ucount, lcount)"
      ],
      "metadata": {
        "colab": {
          "base_uri": "https://localhost:8080/"
        },
        "id": "lpNmxEk8Dt0C",
        "outputId": "7f6b222f-be14-45a6-f9d6-9bdb76624174"
      },
      "execution_count": null,
      "outputs": [
        {
          "output_type": "stream",
          "name": "stdout",
          "text": [
            "I\n",
            "n\n",
            "D\n",
            "i\n",
            "a\n",
            "N\n",
            "s\n",
            "3 4\n"
          ]
        }
      ]
    },
    {
      "cell_type": "code",
      "source": [
        "def lucount(st1 ):\n",
        "  lcount, ucount = 0,0\n",
        "  for c in  st1 :\n",
        "    #print(c)\n",
        "    if (ord(c)>=65 and ord(c)<=90): ucount  = ucount + 1\n",
        "    if (ord(c)>=97 and ord(c)<=122): lcount = lcount + 1\n",
        "\n",
        "  print(ucount, lcount)"
      ],
      "metadata": {
        "id": "T7CDPdoNDt3R"
      },
      "execution_count": null,
      "outputs": []
    },
    {
      "cell_type": "code",
      "source": [
        "lucount(\"IndianS has Been\")"
      ],
      "metadata": {
        "colab": {
          "base_uri": "https://localhost:8080/"
        },
        "id": "GggSBCVBEpWD",
        "outputId": "e41aa12b-337a-413e-c3e9-b154bd1f7ef1"
      },
      "execution_count": null,
      "outputs": [
        {
          "output_type": "stream",
          "name": "stdout",
          "text": [
            "3 11\n"
          ]
        }
      ]
    },
    {
      "cell_type": "code",
      "source": [
        "#3.Write a method to return the number of words in given string\n",
        "st1 = \"   We are fellow Indians \"\n",
        "#output should be 4\n",
        "wcount = 1\n",
        "for s in st1 :\n",
        "  #print(s)\n",
        "  if s==\" \" : wcount = wcount +1\n",
        "print (wcount)\n",
        "#count will be incremented only when space is succeded or preceded with character"
      ],
      "metadata": {
        "colab": {
          "base_uri": "https://localhost:8080/"
        },
        "id": "VQzA7LGYEpYz",
        "outputId": "bd8febe8-24f1-415d-d7a2-4d3ffae264cb"
      },
      "execution_count": null,
      "outputs": [
        {
          "output_type": "stream",
          "name": "stdout",
          "text": [
            "8\n"
          ]
        }
      ]
    },
    {
      "cell_type": "code",
      "source": [
        "#deepanshu\n",
        "def no_of_words(str1):\n",
        "  count=1\n",
        "  for i in range(0,len(str1)):\n",
        "    if (str1[i]==' ' and str1[i+1]!=' ') :\n",
        "      count=count+1\n",
        "  return count\n",
        "str1=\"   India    is   too    beautiful\"\n",
        "print(no_of_words(str1))"
      ],
      "metadata": {
        "colab": {
          "base_uri": "https://localhost:8080/"
        },
        "id": "gvvQQkmjrzxp",
        "outputId": "a6bfc6a5-ae0a-4689-96a3-8f3211f9cb2e"
      },
      "execution_count": null,
      "outputs": [
        {
          "output_type": "stream",
          "name": "stdout",
          "text": [
            "5\n"
          ]
        }
      ]
    },
    {
      "cell_type": "code",
      "source": [
        "#from Kanwar Singh to everyone:    10:19 AM\n",
        "# count the number of words in a string\n",
        "def countWords(strIn):\n",
        "  wordCount = 0\n",
        "  if len(strIn) != 0:  #making sure there are some words in the string\n",
        "    isWord = True\n",
        "    if strIn[0] == \" \": # so  that we correct the first loop iteration beforehand\n",
        "      wordCount = -1\n",
        "  else:\n",
        "    return 0\n",
        "  for i in strIn:\n",
        "    if i != \" \":\n",
        "      isWord = True\n",
        "    else:\n",
        "      if isWord: # if we had a word earlier we can increment\n",
        "        wordCount += 1\n",
        "        isWord = False\n",
        "  if strIn[-1] != \" \": wordCount += 1 # for last element if it doesn't end with a space\n",
        "  return wordCount\n",
        "print(countWords(\"  India   and Indians     are great  \"))"
      ],
      "metadata": {
        "colab": {
          "base_uri": "https://localhost:8080/"
        },
        "id": "mP6ZpQCJrz0u",
        "outputId": "4f3b8027-1218-43d5-8173-267499542f5e"
      },
      "execution_count": null,
      "outputs": [
        {
          "output_type": "stream",
          "name": "stdout",
          "text": [
            "5\n"
          ]
        }
      ]
    },
    {
      "cell_type": "code",
      "source": [],
      "metadata": {
        "id": "dQlMjTYRthsZ"
      },
      "execution_count": null,
      "outputs": []
    },
    {
      "cell_type": "code",
      "source": [],
      "metadata": {
        "id": "kiEEhPi3thvn"
      },
      "execution_count": null,
      "outputs": []
    },
    {
      "cell_type": "markdown",
      "source": [
        "## Sorting"
      ],
      "metadata": {
        "id": "oeDgy9d47Ab2"
      }
    },
    {
      "cell_type": "code",
      "source": [],
      "metadata": {
        "colab": {
          "base_uri": "https://localhost:8080/"
        },
        "id": "JmpBiOcp5zE4",
        "outputId": "645b8273-c37b-4d83-f9c3-5d1a9caffeb0"
      },
      "execution_count": null,
      "outputs": [
        {
          "output_type": "stream",
          "name": "stdout",
          "text": [
            "[20, 45, 2, 12, 78]\n"
          ]
        }
      ]
    },
    {
      "cell_type": "markdown",
      "source": [
        "#### Bubble Sort"
      ],
      "metadata": {
        "id": "isxS0s8bzua4"
      }
    },
    {
      "cell_type": "code",
      "source": [
        "# sort the list without using any built-in method / ascending order\n",
        "#lst1 = [20, 45, 2, 12, 78]  # random  # bubble sort\n",
        "#lst1 = [2, 12, 20, 45, 78]  # best\n",
        "lst1 = [78, 45, 20, 12, 2]  # worst\n",
        "print ( lst1)\n",
        "for k in range (len(lst1)-1):\n",
        "  for i in range (len(lst1)-1):\n",
        "    if lst1[i]> lst1[i+1] : # if true swap\n",
        "      x = lst1[i]\n",
        "      lst1[i]   = lst1[i+1]\n",
        "      lst1[i+1] = x\n",
        "  #print the list\n",
        "  for i in lst1 : print (i , end  =\" \")\n",
        "  print (\" \")"
      ],
      "metadata": {
        "colab": {
          "base_uri": "https://localhost:8080/"
        },
        "id": "y9chm4pP7NGF",
        "outputId": "0a66f07d-4327-4c5c-e2bf-ca9849a5659b"
      },
      "execution_count": null,
      "outputs": [
        {
          "output_type": "stream",
          "name": "stdout",
          "text": [
            "[78, 45, 20, 12, 2]\n",
            "45 20 12 2 78  \n",
            "20 12 2 45 78  \n",
            "12 2 20 45 78  \n",
            "2 12 20 45 78  \n"
          ]
        }
      ]
    },
    {
      "cell_type": "code",
      "source": [
        "lst1 = [20,15,14,12,7,1]\n",
        "print ( lst1)\n",
        "cnt =0\n",
        "for k in range (len(lst1)-1):\n",
        "  for i in range (len(lst1)-1):\n",
        "    cnt = cnt+1\n",
        "    if lst1[i]> lst1[i+1] :\n",
        "      x = lst1[i]\n",
        "      lst1[i]   = lst1[i+1]\n",
        "      lst1[i+1] = x\n",
        "\n",
        "print (cnt)\n",
        "print (lst1)"
      ],
      "metadata": {
        "id": "d6vUkRehArYL",
        "colab": {
          "base_uri": "https://localhost:8080/"
        },
        "outputId": "e7cf24a6-4ce3-474e-c456-f940634eff85"
      },
      "execution_count": null,
      "outputs": [
        {
          "output_type": "stream",
          "name": "stdout",
          "text": [
            "[20, 15, 14, 12, 7, 1]\n",
            "25\n",
            "[1, 7, 12, 14, 15, 20]\n"
          ]
        }
      ]
    },
    {
      "cell_type": "code",
      "source": [
        "def myBubbleSort(lst1):\n",
        "  print (\" Original :\", lst1)\n",
        "  cnt =0\n",
        "  for k in range (len(lst1)-1):\n",
        "    for i in range (len(lst1)-1):\n",
        "      cnt = cnt+1\n",
        "      if lst1[i]> lst1[i+1] :\n",
        "        x = lst1[i]\n",
        "        lst1[i]   = lst1[i+1]\n",
        "        lst1[i+1] = x\n",
        "\n",
        "  print (\" Iteration : \"+ str(cnt))\n",
        "  print (\" Sorted  :\" ,lst1)"
      ],
      "metadata": {
        "id": "jvdHPAeY8H4v"
      },
      "execution_count": null,
      "outputs": []
    },
    {
      "cell_type": "code",
      "source": [
        "#aveage case /random\n",
        "myBubbleSort([20, 15, 14, 12, 7, 1])"
      ],
      "metadata": {
        "id": "lQU1q58-9_RJ",
        "colab": {
          "base_uri": "https://localhost:8080/"
        },
        "outputId": "6a8d8f52-827a-4804-d16e-b44ffb7b30bb"
      },
      "execution_count": null,
      "outputs": [
        {
          "output_type": "stream",
          "name": "stdout",
          "text": [
            " Original : [20, 15, 14, 12, 7, 1]\n",
            " Iteration : 25\n",
            " Sorted  : [1, 7, 12, 14, 15, 20]\n"
          ]
        }
      ]
    },
    {
      "cell_type": "code",
      "source": [
        "#worst case\n",
        "myBubbleSort([1, 7, 12, 14, 15, 20])"
      ],
      "metadata": {
        "colab": {
          "base_uri": "https://localhost:8080/"
        },
        "id": "Jhe3qj5HIu1V",
        "outputId": "1f8e7c25-8128-470e-a461-92b8820a1981"
      },
      "execution_count": null,
      "outputs": [
        {
          "output_type": "stream",
          "name": "stdout",
          "text": [
            " Original : [1, 7, 12, 14, 15, 20]\n",
            " Iteration : 25\n",
            " Sorted  : [1, 7, 12, 14, 15, 20]\n"
          ]
        }
      ]
    },
    {
      "cell_type": "code",
      "source": [
        "myBubbleSort ([20, 15,14,12,7,1])"
      ],
      "metadata": {
        "colab": {
          "base_uri": "https://localhost:8080/"
        },
        "id": "z5lmu6EEI35r",
        "outputId": "1a1044c5-38d6-4312-c73b-a39344de989c"
      },
      "execution_count": null,
      "outputs": [
        {
          "output_type": "stream",
          "name": "stdout",
          "text": [
            " Original : [20, 15, 14, 12, 7, 1]\n",
            " Iteration : 25\n",
            " Sorted  : [1, 7, 12, 14, 15, 20]\n"
          ]
        }
      ]
    },
    {
      "cell_type": "code",
      "source": [],
      "metadata": {
        "id": "PcIzLwCQJRr7"
      },
      "execution_count": null,
      "outputs": []
    },
    {
      "cell_type": "markdown",
      "source": [
        "##### Improve Bubble sort"
      ],
      "metadata": {
        "id": "RO5YVu2l7IiS"
      }
    },
    {
      "cell_type": "code",
      "source": [
        "def myBubbleSorti(lst1):\n",
        "  print (\" Original :\", lst1)\n",
        "  cnt =0\n",
        "  for k in range (len(lst1)-1):\n",
        "    flag = True\n",
        "    for i in range (len(lst1)-1):\n",
        "      cnt = cnt+1\n",
        "      if lst1[i]> lst1[i+1] :\n",
        "        flag = False\n",
        "        lst1[i] , lst1[i+1] =lst1[i+1], lst1[i]\n",
        "      if ( flag == True ) :\n",
        "        #print (\"done \")\n",
        "        break\n",
        "  print (\" Iteration : \"+ str(cnt))\n",
        "  print (\" Sorted  :\" ,lst1)"
      ],
      "metadata": {
        "id": "BSrvJZXZ7NCJ"
      },
      "execution_count": null,
      "outputs": []
    },
    {
      "cell_type": "code",
      "source": [
        "myBubbleSorti([1, 7, 12, 14, 15, 20])"
      ],
      "metadata": {
        "colab": {
          "base_uri": "https://localhost:8080/"
        },
        "id": "JKK_9yxq7NRV",
        "outputId": "d876275f-4a0e-469f-eb1b-283d72f7cbd2"
      },
      "execution_count": null,
      "outputs": [
        {
          "output_type": "stream",
          "name": "stdout",
          "text": [
            " Original : [1, 7, 12, 14, 15, 20]\n",
            "done \n",
            "done \n",
            "done \n",
            "done \n",
            "done \n",
            " Iteration : 5\n",
            " Sorted  : [1, 7, 12, 14, 15, 20]\n"
          ]
        }
      ]
    },
    {
      "cell_type": "code",
      "source": [
        "myBubbleSorti([1, 7, 12, 20, 15, 14])"
      ],
      "metadata": {
        "colab": {
          "base_uri": "https://localhost:8080/"
        },
        "id": "8i4pQS_s7NUH",
        "outputId": "83e8983d-ffcb-487d-f4a7-046774fec633"
      },
      "execution_count": null,
      "outputs": [
        {
          "output_type": "stream",
          "name": "stdout",
          "text": [
            " Original : [1, 7, 12, 20, 15, 14]\n",
            "done \n",
            "done \n",
            "done \n",
            "done \n",
            "done \n",
            " Iteration : 5\n",
            " Sorted  : [1, 7, 12, 20, 15, 14]\n"
          ]
        }
      ]
    },
    {
      "cell_type": "markdown",
      "source": [
        "#### Selection Sort"
      ],
      "metadata": {
        "id": "a17pu0rTzzam"
      }
    },
    {
      "cell_type": "markdown",
      "source": [
        "![image.png](data:image/png;base64,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)"
      ],
      "metadata": {
        "id": "CjlZgb0-34-V"
      }
    },
    {
      "cell_type": "code",
      "source": [
        "# sort the list without using any built-in method / ascending order\n",
        "#selection\n",
        "lst1 = [20, 45, 2, 12, 78]\n",
        "\n",
        "print ( lst1)\n",
        "for k in range (len(lst1)-1):\n",
        "  print (lst1[k])\n",
        "  for j in range ( k+1 , len(lst1)):\n",
        "    print (lst1[j] * (k+2) , end =\"-\")\n",
        "  print (\" \")\n",
        "\n",
        "\n",
        "# output 20 , 90, 4, 24, 156\n",
        "#        45 , 6 , 36 , 234\n",
        "#         2 , 48,  312\n",
        "#         12,   390"
      ],
      "metadata": {
        "colab": {
          "base_uri": "https://localhost:8080/"
        },
        "id": "ILzASzxiz44q",
        "outputId": "9d4050a0-f9e6-487f-a4de-13a3cd70481e"
      },
      "execution_count": null,
      "outputs": [
        {
          "output_type": "stream",
          "name": "stdout",
          "text": [
            "[20, 45, 2, 12, 78]\n",
            "20\n",
            "90-4-24-156- \n",
            "45\n",
            "6-36-234- \n",
            "2\n",
            "48-312- \n",
            "12\n",
            "390- \n"
          ]
        }
      ]
    },
    {
      "cell_type": "code",
      "source": [
        "# sort the list without using any built-in method / ascending order\n",
        "#selection\n",
        "lst1 = [20, 45, 2, 12, 78]\n",
        "\n",
        "print ( lst1)\n",
        "for k in range (len(lst1)-1):\n",
        "  print (lst1[k])\n",
        "  for j in range ( k+1 , len(lst1)):\n",
        "    if lst1[j] < lst1[k] : #swap\n",
        "       x       = lst1[j]\n",
        "       lst1[j] = lst1[k]\n",
        "       lst1[k] = x\n",
        "  print (lst1)\n"
      ],
      "metadata": {
        "colab": {
          "base_uri": "https://localhost:8080/"
        },
        "id": "61X5avz74sXO",
        "outputId": "d9239a99-529e-4e2c-ae71-d293f2093f79"
      },
      "execution_count": null,
      "outputs": [
        {
          "output_type": "stream",
          "name": "stdout",
          "text": [
            "[20, 45, 2, 12, 78]\n",
            "20\n",
            "[2, 45, 20, 12, 78]\n",
            "45\n",
            "[2, 12, 45, 20, 78]\n",
            "45\n",
            "[2, 12, 20, 45, 78]\n",
            "45\n",
            "[2, 12, 20, 45, 78]\n"
          ]
        }
      ]
    },
    {
      "cell_type": "code",
      "source": [
        "def mySelectionSort(lst1)  :\n",
        "  print ( lst1)\n",
        "  cnt = 0\n",
        "  for k in range (len(lst1)-1):\n",
        "    for j in range ( k+1 , len(lst1)):\n",
        "      cnt = cnt  + 1\n",
        "      if lst1[j] < lst1[k] : #swap\n",
        "        x       = lst1[j]\n",
        "        lst1[j] = lst1[k]\n",
        "        lst1[k] = x\n",
        "  print ( \"Iteration : \" + str ( cnt ) )\n",
        "  print (lst1)\n"
      ],
      "metadata": {
        "id": "J7ddk-eUz47a"
      },
      "execution_count": null,
      "outputs": []
    },
    {
      "cell_type": "code",
      "source": [
        "mySelectionSort ([20, 45, 2, 12, 78] )"
      ],
      "metadata": {
        "colab": {
          "base_uri": "https://localhost:8080/"
        },
        "id": "GedCn5EH5lY_",
        "outputId": "889bbeff-1d58-429a-efc7-c8b4cc0d65c2"
      },
      "execution_count": null,
      "outputs": [
        {
          "output_type": "stream",
          "name": "stdout",
          "text": [
            "[20, 45, 2, 12, 78]\n",
            "Iteration : 10\n",
            "[2, 12, 20, 45, 78]\n"
          ]
        }
      ]
    },
    {
      "cell_type": "code",
      "source": [
        "mySelectionSort ([2, 12, 20, 45, 78])"
      ],
      "metadata": {
        "colab": {
          "base_uri": "https://localhost:8080/"
        },
        "id": "OrnG-Cg45lds",
        "outputId": "90fbae09-a463-4e5e-90eb-63bcdda5f1b0"
      },
      "execution_count": null,
      "outputs": [
        {
          "output_type": "stream",
          "name": "stdout",
          "text": [
            "[2, 12, 20, 45, 78]\n",
            "Iteration : 10\n",
            "[2, 12, 20, 45, 78]\n"
          ]
        }
      ]
    },
    {
      "cell_type": "code",
      "source": [
        "mySelectionSort ([78 , 45, 20, 12, 2])"
      ],
      "metadata": {
        "colab": {
          "base_uri": "https://localhost:8080/"
        },
        "id": "4xyunbNw5lhU",
        "outputId": "90495cb2-5208-49c3-9cfb-163abce11629"
      },
      "execution_count": null,
      "outputs": [
        {
          "output_type": "stream",
          "name": "stdout",
          "text": [
            "[78, 45, 20, 12, 2]\n",
            "Iteration : 10\n",
            "[2, 12, 20, 45, 78]\n"
          ]
        }
      ]
    },
    {
      "cell_type": "code",
      "source": [],
      "metadata": {
        "id": "EN31n8S96SRA"
      },
      "execution_count": null,
      "outputs": []
    },
    {
      "cell_type": "markdown",
      "source": [
        "#### Question"
      ],
      "metadata": {
        "id": "0Br07uhs9de9"
      }
    },
    {
      "cell_type": "markdown",
      "source": [
        "1. accept 10 numbers from user (one at a time) and make list of these given numbers\n",
        "\n",
        "2. accept 10 numbers from user (one at a time) and make sorted list of these given numbers . donot use sort or any builtin method\n",
        "\n",
        "3. accept 10 numbers from user (one at a time) and display the max, min and average after each number is accepted .\n",
        "\n"
      ],
      "metadata": {
        "id": "LKtbJp5C9fL-"
      }
    },
    {
      "cell_type": "code",
      "source": [
        "#1 code from lalit\n",
        "num =[]\n",
        "for i in range(0,5):\n",
        "    n= int(input(f\"Enter number : \"))\n",
        "    num.append(n)\n",
        "print(num)"
      ],
      "metadata": {
        "colab": {
          "base_uri": "https://localhost:8080/"
        },
        "id": "1gSlZwFKqI25",
        "outputId": "aac311be-a6a9-456c-e497-0ec70165df85"
      },
      "execution_count": null,
      "outputs": [
        {
          "output_type": "stream",
          "name": "stdout",
          "text": [
            "Enter number : 34\n",
            "Enter number : 67\n",
            "Enter number : 78\n",
            "Enter number : 23\n",
            "Enter number : 56\n",
            "[34, 67, 78, 23, 56]\n"
          ]
        }
      ]
    },
    {
      "cell_type": "code",
      "source": [
        " #2\n",
        " print (num)\n",
        " # insert 68 after 67 in given list - num\n",
        " num.append(68)\n",
        " print(num)"
      ],
      "metadata": {
        "colab": {
          "base_uri": "https://localhost:8080/"
        },
        "id": "DM35cXMBqXpA",
        "outputId": "767d5e92-00e3-4936-ff3c-2eaef95575f4"
      },
      "execution_count": null,
      "outputs": [
        {
          "output_type": "stream",
          "name": "stdout",
          "text": [
            "[34, 67, 78, 23, 56]\n",
            "[34, 67, 78, 23, 56, 68]\n"
          ]
        }
      ]
    },
    {
      "cell_type": "code",
      "source": [
        "num[2] = 69\n",
        "print (num)"
      ],
      "metadata": {
        "colab": {
          "base_uri": "https://localhost:8080/"
        },
        "id": "RPNjaYgEqle9",
        "outputId": "2863e392-70a6-476b-d3f0-613a6f944507"
      },
      "execution_count": null,
      "outputs": [
        {
          "output_type": "stream",
          "name": "stdout",
          "text": [
            "[34, 67, 69, 23, 56, 68]\n"
          ]
        }
      ]
    },
    {
      "cell_type": "code",
      "source": [
        "print(num)\n",
        "num=num[0:2]  + [70]  + num[2:]\n",
        "print(num)"
      ],
      "metadata": {
        "colab": {
          "base_uri": "https://localhost:8080/"
        },
        "id": "UDsdfxxrr9uV",
        "outputId": "0d1b0e2d-eb04-47f2-aa52-b2d912bc4437"
      },
      "execution_count": null,
      "outputs": [
        {
          "output_type": "stream",
          "name": "stdout",
          "text": [
            "[34, 69, 69, 23, 56, 68]\n",
            "[34, 69, 70, 69, 23, 56, 68]\n"
          ]
        }
      ]
    },
    {
      "cell_type": "code",
      "source": [
        "'''\n",
        "23\n",
        "[23]\n",
        "16\n",
        "[16,23]\n",
        "34\n",
        "[16,23,34]\n",
        "'''\n",
        "lst1 =[]\n",
        "n=23\n",
        "#lst1[0] = 23\n",
        "lst1.append(n)\n",
        "print(lst1)\n",
        "n=16\n",
        "if n> lst1[0] : print('after')\n",
        "if n< lst1[0] : print('before')"
      ],
      "metadata": {
        "colab": {
          "base_uri": "https://localhost:8080/"
        },
        "id": "CSnmVEdZsK6B",
        "outputId": "50003fad-ff92-4a0d-fe9c-6bed44930dfe"
      },
      "execution_count": null,
      "outputs": [
        {
          "output_type": "stream",
          "name": "stdout",
          "text": [
            "[23]\n"
          ]
        }
      ]
    },
    {
      "cell_type": "code",
      "source": [
        "lst  = []\n",
        "tlst = []\n",
        "n=15\n",
        "if lst == [ ]:  lst.append(n)\n",
        "n=23\n",
        "lst.append (n)\n",
        "print(lst)\n",
        "\n",
        "n=10\n",
        "lst  = [n]  +lst\n",
        "print(lst)"
      ],
      "metadata": {
        "colab": {
          "base_uri": "https://localhost:8080/"
        },
        "id": "ucMANQKPtDDm",
        "outputId": "ce35c9f3-b01f-43ed-dc41-8ff844c2daab"
      },
      "execution_count": null,
      "outputs": [
        {
          "output_type": "stream",
          "name": "stdout",
          "text": [
            "[15, 23]\n",
            "[10, 15, 23]\n"
          ]
        }
      ]
    },
    {
      "cell_type": "code",
      "source": [
        "# contents of lst is not known\n",
        "lst= [10, 15, 19, 23]\n",
        "tlst=[]\n",
        "n=26\n",
        "flag=0\n",
        "for i in range(len(lst)):\n",
        "  if (lst[i] < n )  :\n",
        "    tlst.append(lst[i])\n",
        "  else :\n",
        "    if (flag==0):\n",
        "      tlst.append(n) # this statement to be executed only once\n",
        "      tlst.append(lst[i])\n",
        "      flag=1\n",
        "    else : tlst.append(lst[i])\n",
        "\n",
        "if (flag==0): # number to be inserted in greater than all the numbers in list\n",
        "  tlst.append(n)\n",
        "print (lst)\n",
        "print(tlst)"
      ],
      "metadata": {
        "colab": {
          "base_uri": "https://localhost:8080/"
        },
        "id": "AckYELXkuzNG",
        "outputId": "a789e5ec-1d01-4280-d69f-473ce7b62da9"
      },
      "execution_count": null,
      "outputs": [
        {
          "output_type": "stream",
          "name": "stdout",
          "text": [
            "[10, 15, 19, 23]\n",
            "[10, 15, 19, 23, 26]\n"
          ]
        }
      ]
    },
    {
      "cell_type": "code",
      "source": [
        "def myInsertList():\n",
        "  pass\n",
        "\n",
        "# method will keep asking for new numbers and insert into list in sorted order\n",
        "# till user enters -1\n",
        "# display the sorted list"
      ],
      "metadata": {
        "id": "ILvJ-kYYwW0H"
      },
      "execution_count": null,
      "outputs": []
    },
    {
      "cell_type": "code",
      "source": [
        "def myInsertList():\n",
        "  while True :\n",
        "    n = int (input(\"Enter number \"))\n",
        "    if (n==-1): break"
      ],
      "metadata": {
        "id": "gbivaXrj03B5"
      },
      "execution_count": null,
      "outputs": []
    },
    {
      "cell_type": "code",
      "source": [
        "myInsertList()"
      ],
      "metadata": {
        "colab": {
          "base_uri": "https://localhost:8080/"
        },
        "id": "Q0z2_agP03JS",
        "outputId": "57a8d5dd-677d-4187-a6a7-2d7f77f25d26"
      },
      "execution_count": null,
      "outputs": [
        {
          "name": "stdout",
          "output_type": "stream",
          "text": [
            "Enter number 12\n",
            "Enter number 43\n",
            "Enter number 56\n",
            "Enter number 45\n",
            "Enter number -1\n"
          ]
        }
      ]
    },
    {
      "cell_type": "code",
      "source": [
        "def myInsertList():\n",
        "  lst =[]\n",
        "  while True :\n",
        "    n = int (input(\"Enter number \"))\n",
        "    if (n==-1): break\n",
        "    lst.append(n)\n",
        "  print(lst )"
      ],
      "metadata": {
        "id": "KzDPrpkG03Lu"
      },
      "execution_count": null,
      "outputs": []
    },
    {
      "cell_type": "code",
      "source": [
        "myInsertList()"
      ],
      "metadata": {
        "colab": {
          "base_uri": "https://localhost:8080/"
        },
        "id": "Zk1X7BZe1U7y",
        "outputId": "e0d7436d-8363-4a65-d500-456c587be812"
      },
      "execution_count": null,
      "outputs": [
        {
          "output_type": "stream",
          "name": "stdout",
          "text": [
            "Enter number 345\n",
            "Enter number 78\n",
            "Enter number 45\n",
            "Enter number -1\n",
            "[345, 78, 45]\n"
          ]
        }
      ]
    },
    {
      "cell_type": "code",
      "source": [
        "def myInsertList():\n",
        "  lst =[]\n",
        "  while True :\n",
        "    n = int (input(\"Enter number \"))\n",
        "    if (n==-1): break\n",
        "    if lst == [ ]:  lst.append(n)\n",
        "    flag=0\n",
        "    tlst=[]\n",
        "    for i in range(len(lst)):\n",
        "      if (lst[i] < n )  :\n",
        "        tlst.append(lst[i])\n",
        "      else :\n",
        "        if (flag==0):\n",
        "          tlst.append(n) # this statement to be executed only once\n",
        "          tlst.append(lst[i])\n",
        "          flag=1\n",
        "        else : tlst.append(lst[i])\n",
        "\n",
        "    if (flag==0): # number to be inserted in greater than all the numbers in list\n",
        "      tlst.append(n)\n",
        "    lst = tlst\n",
        "  print(lst )"
      ],
      "metadata": {
        "id": "GDLd79xf1U-L"
      },
      "execution_count": null,
      "outputs": []
    },
    {
      "cell_type": "markdown",
      "source": [
        "Quick Review\n",
        " * python datatype\n",
        " * operator\n",
        " * loops, conditional statements\n",
        " * list, tuple, dictionary,set\n",
        " * functions ...\n",
        " * packages\n",
        " * Package  - Numpy , Pandas\n",
        " * machine learning\n",
        " * Deep Learning\n"
      ],
      "metadata": {
        "id": "US2Vl7LyCvVN"
      }
    },
    {
      "cell_type": "markdown",
      "source": [
        "3. accept 10 numbers from user (one at a time) and display the max, min and average after each number is accepted .\n",
        "\n"
      ],
      "metadata": {
        "id": "nGDQjMM4CvYE"
      }
    },
    {
      "cell_type": "code",
      "source": [
        "lst1 = []\n",
        "while True :\n",
        "  n = int(input (\"enter number \"))\n",
        "  if n==0 : break\n",
        "  lst1.append(n)"
      ],
      "metadata": {
        "colab": {
          "base_uri": "https://localhost:8080/"
        },
        "id": "NNZbSEAuF7E-",
        "outputId": "fe6837a6-cf8c-4486-c0d5-891b15759904"
      },
      "execution_count": null,
      "outputs": [
        {
          "name": "stdout",
          "output_type": "stream",
          "text": [
            "enter number 23\n",
            "enter number 45\n",
            "enter number 67\n",
            "enter number 0\n"
          ]
        }
      ]
    },
    {
      "cell_type": "code",
      "source": [
        "print (lst1)"
      ],
      "metadata": {
        "colab": {
          "base_uri": "https://localhost:8080/"
        },
        "id": "XE4Ar4MiF7H9",
        "outputId": "eb2039fb-e602-4487-a654-e7079dea739f"
      },
      "execution_count": null,
      "outputs": [
        {
          "output_type": "stream",
          "name": "stdout",
          "text": [
            "[23, 45, 67]\n"
          ]
        }
      ]
    },
    {
      "cell_type": "code",
      "source": [
        "n =  input (\"enter number \")\n",
        "print(n)"
      ],
      "metadata": {
        "colab": {
          "base_uri": "https://localhost:8080/"
        },
        "id": "QSY37sLSGOab",
        "outputId": "54a6a7db-72b7-4b0b-ffe4-077f3cc8a6b3"
      },
      "execution_count": null,
      "outputs": [
        {
          "output_type": "stream",
          "name": "stdout",
          "text": [
            "enter number stop\n",
            "stop\n"
          ]
        }
      ]
    },
    {
      "cell_type": "code",
      "source": [
        "# the loop should break when user enters stop\n",
        "lst1 = []\n",
        "while True :\n",
        "  n = (input (\"enter number \"))\n",
        "  if n=='stop' : break\n",
        "  lst1.append(int(n))"
      ],
      "metadata": {
        "colab": {
          "base_uri": "https://localhost:8080/"
        },
        "id": "ZigW1mwIGpbP",
        "outputId": "94a1ab14-eeee-490c-d3c0-6d5386f41296"
      },
      "execution_count": null,
      "outputs": [
        {
          "name": "stdout",
          "output_type": "stream",
          "text": [
            "enter number 12\n",
            "enter number 23\n",
            "enter number 45\n",
            "enter number 56\n",
            "enter number stop\n"
          ]
        }
      ]
    },
    {
      "cell_type": "code",
      "source": [
        "print ( lst1 )"
      ],
      "metadata": {
        "colab": {
          "base_uri": "https://localhost:8080/"
        },
        "id": "cXrdn03aHNWu",
        "outputId": "3bdd5fbb-2fe4-41f1-dc0a-4f1ed0fe0949"
      },
      "execution_count": null,
      "outputs": [
        {
          "output_type": "stream",
          "name": "stdout",
          "text": [
            "[12, 23, 45, 56]\n"
          ]
        }
      ]
    },
    {
      "cell_type": "code",
      "source": [
        "# accept 10 number from  user\n",
        "sum = 0\n",
        "avg = 0\n",
        "for i in range(1,6):\n",
        "  n = int (input(\"enter number \"))\n",
        "  #print (n)\n",
        "\n",
        "  sum = sum + n\n",
        "  avg = sum/i\n",
        "  print (sum , avg)"
      ],
      "metadata": {
        "colab": {
          "base_uri": "https://localhost:8080/"
        },
        "id": "EVT0az9wHNZz",
        "outputId": "91a26d16-fbba-4fe6-9086-3939ea67cb22"
      },
      "execution_count": null,
      "outputs": [
        {
          "output_type": "stream",
          "name": "stdout",
          "text": [
            "enter number 1\n",
            "1 1.0\n",
            "enter number 2\n",
            "3 1.5\n",
            "enter number 3\n",
            "6 2.0\n",
            "enter number 4\n",
            "10 2.5\n",
            "enter number 5\n",
            "15 3.0\n"
          ]
        }
      ]
    },
    {
      "cell_type": "code",
      "source": [
        "[int(x) for x in input().split(' ')]"
      ],
      "metadata": {
        "colab": {
          "base_uri": "https://localhost:8080/"
        },
        "id": "AZBm6C4eIcCZ",
        "outputId": "4bbdf8a1-044e-443c-9f1c-8beaff98909c"
      },
      "execution_count": null,
      "outputs": [
        {
          "name": "stdout",
          "output_type": "stream",
          "text": [
            "12 23 54\n"
          ]
        },
        {
          "output_type": "execute_result",
          "data": {
            "text/plain": [
              "[12, 23, 54]"
            ]
          },
          "metadata": {},
          "execution_count": 17
        }
      ]
    },
    {
      "cell_type": "code",
      "source": [
        "max=0\n",
        "min=0\n",
        "for i in range(10) :\n",
        "  n=int(input(\"enter number\"))\n",
        "  if n>max :\n",
        "    max=n\n",
        "  else :\n",
        "    min=n\n",
        "\n",
        "  print(\"max = \",max)\n",
        "  print(\"min = \",min)"
      ],
      "metadata": {
        "colab": {
          "base_uri": "https://localhost:8080/",
          "height": 462
        },
        "id": "PKE3tVzhLEs5",
        "outputId": "4872cdf6-a8ee-4e03-fd90-46bbc0e970ce"
      },
      "execution_count": null,
      "outputs": [
        {
          "output_type": "stream",
          "name": "stdout",
          "text": [
            "enter number12\n",
            "max =  12\n",
            "min =  0\n"
          ]
        },
        {
          "output_type": "error",
          "ename": "KeyboardInterrupt",
          "evalue": "ignored",
          "traceback": [
            "\u001b[0;31m---------------------------------------------------------------------------\u001b[0m",
            "\u001b[0;31mKeyboardInterrupt\u001b[0m                         Traceback (most recent call last)",
            "\u001b[0;32m<ipython-input-14-e21028e0bca4>\u001b[0m in \u001b[0;36m<module>\u001b[0;34m\u001b[0m\n\u001b[1;32m      2\u001b[0m \u001b[0mmin\u001b[0m\u001b[0;34m=\u001b[0m\u001b[0;36m0\u001b[0m\u001b[0;34m\u001b[0m\u001b[0;34m\u001b[0m\u001b[0m\n\u001b[1;32m      3\u001b[0m \u001b[0;32mfor\u001b[0m \u001b[0mi\u001b[0m \u001b[0;32min\u001b[0m \u001b[0mrange\u001b[0m\u001b[0;34m(\u001b[0m\u001b[0;36m10\u001b[0m\u001b[0;34m)\u001b[0m \u001b[0;34m:\u001b[0m\u001b[0;34m\u001b[0m\u001b[0;34m\u001b[0m\u001b[0m\n\u001b[0;32m----> 4\u001b[0;31m   \u001b[0mn\u001b[0m\u001b[0;34m=\u001b[0m\u001b[0mint\u001b[0m\u001b[0;34m(\u001b[0m\u001b[0minput\u001b[0m\u001b[0;34m(\u001b[0m\u001b[0;34m\"enter number\"\u001b[0m\u001b[0;34m)\u001b[0m\u001b[0;34m)\u001b[0m\u001b[0;34m\u001b[0m\u001b[0;34m\u001b[0m\u001b[0m\n\u001b[0m\u001b[1;32m      5\u001b[0m   \u001b[0;32mif\u001b[0m \u001b[0mn\u001b[0m\u001b[0;34m>\u001b[0m\u001b[0mmax\u001b[0m \u001b[0;34m:\u001b[0m\u001b[0;34m\u001b[0m\u001b[0;34m\u001b[0m\u001b[0m\n\u001b[1;32m      6\u001b[0m     \u001b[0mmax\u001b[0m\u001b[0;34m=\u001b[0m\u001b[0mn\u001b[0m\u001b[0;34m\u001b[0m\u001b[0;34m\u001b[0m\u001b[0m\n",
            "\u001b[0;32m/usr/local/lib/python3.8/dist-packages/ipykernel/kernelbase.py\u001b[0m in \u001b[0;36mraw_input\u001b[0;34m(self, prompt)\u001b[0m\n\u001b[1;32m    858\u001b[0m                 \u001b[0;34m\"raw_input was called, but this frontend does not support input requests.\"\u001b[0m\u001b[0;34m\u001b[0m\u001b[0;34m\u001b[0m\u001b[0m\n\u001b[1;32m    859\u001b[0m             )\n\u001b[0;32m--> 860\u001b[0;31m         return self._input_request(str(prompt),\n\u001b[0m\u001b[1;32m    861\u001b[0m             \u001b[0mself\u001b[0m\u001b[0;34m.\u001b[0m\u001b[0m_parent_ident\u001b[0m\u001b[0;34m,\u001b[0m\u001b[0;34m\u001b[0m\u001b[0;34m\u001b[0m\u001b[0m\n\u001b[1;32m    862\u001b[0m             \u001b[0mself\u001b[0m\u001b[0;34m.\u001b[0m\u001b[0m_parent_header\u001b[0m\u001b[0;34m,\u001b[0m\u001b[0;34m\u001b[0m\u001b[0;34m\u001b[0m\u001b[0m\n",
            "\u001b[0;32m/usr/local/lib/python3.8/dist-packages/ipykernel/kernelbase.py\u001b[0m in \u001b[0;36m_input_request\u001b[0;34m(self, prompt, ident, parent, password)\u001b[0m\n\u001b[1;32m    902\u001b[0m             \u001b[0;32mexcept\u001b[0m \u001b[0mKeyboardInterrupt\u001b[0m\u001b[0;34m:\u001b[0m\u001b[0;34m\u001b[0m\u001b[0;34m\u001b[0m\u001b[0m\n\u001b[1;32m    903\u001b[0m                 \u001b[0;31m# re-raise KeyboardInterrupt, to truncate traceback\u001b[0m\u001b[0;34m\u001b[0m\u001b[0;34m\u001b[0m\u001b[0;34m\u001b[0m\u001b[0m\n\u001b[0;32m--> 904\u001b[0;31m                 \u001b[0;32mraise\u001b[0m \u001b[0mKeyboardInterrupt\u001b[0m\u001b[0;34m(\u001b[0m\u001b[0;34m\"Interrupted by user\"\u001b[0m\u001b[0;34m)\u001b[0m \u001b[0;32mfrom\u001b[0m \u001b[0;32mNone\u001b[0m\u001b[0;34m\u001b[0m\u001b[0;34m\u001b[0m\u001b[0m\n\u001b[0m\u001b[1;32m    905\u001b[0m             \u001b[0;32mexcept\u001b[0m \u001b[0mException\u001b[0m \u001b[0;32mas\u001b[0m \u001b[0me\u001b[0m\u001b[0;34m:\u001b[0m\u001b[0;34m\u001b[0m\u001b[0;34m\u001b[0m\u001b[0m\n\u001b[1;32m    906\u001b[0m                 \u001b[0mself\u001b[0m\u001b[0;34m.\u001b[0m\u001b[0mlog\u001b[0m\u001b[0;34m.\u001b[0m\u001b[0mwarning\u001b[0m\u001b[0;34m(\u001b[0m\u001b[0;34m\"Invalid Message:\"\u001b[0m\u001b[0;34m,\u001b[0m \u001b[0mexc_info\u001b[0m\u001b[0;34m=\u001b[0m\u001b[0;32mTrue\u001b[0m\u001b[0;34m)\u001b[0m\u001b[0;34m\u001b[0m\u001b[0;34m\u001b[0m\u001b[0m\n",
            "\u001b[0;31mKeyboardInterrupt\u001b[0m: Interrupted by user"
          ]
        }
      ]
    },
    {
      "cell_type": "code",
      "source": [
        "sum=0 ; avg=0; max=0; min=0\n",
        "\n",
        "for i in range(10) :\n",
        "  n=int(input(\"enter number\"))\n",
        "  if i==0 :\n",
        "    max=n\n",
        "    min=n\n",
        "  else :\n",
        "    if n>max :\n",
        "      max=n\n",
        "    if n<min :\n",
        "      min=n\n",
        "    sum+=n\n",
        "\n",
        "  print(\"max = \",max)\n",
        "  print(\"min = \",min)"
      ],
      "metadata": {
        "colab": {
          "base_uri": "https://localhost:8080/"
        },
        "id": "zKW_2L3bMbX6",
        "outputId": "14bf900d-df5b-46a4-a111-5191c4035a38"
      },
      "execution_count": null,
      "outputs": [
        {
          "output_type": "stream",
          "name": "stdout",
          "text": [
            "enter number23\n",
            "max =  23\n",
            "min =  23\n",
            "enter number67\n",
            "max =  67\n",
            "min =  23\n",
            "enter number89\n",
            "max =  89\n",
            "min =  23\n",
            "enter number1\n",
            "max =  89\n",
            "min =  1\n",
            "enter number55\n",
            "max =  89\n",
            "min =  1\n",
            "enter number66\n",
            "max =  89\n",
            "min =  1\n",
            "enter number34\n",
            "max =  89\n",
            "min =  1\n",
            "enter number0\n",
            "max =  89\n",
            "min =  0\n",
            "enter number90\n",
            "max =  90\n",
            "min =  0\n",
            "enter number44\n",
            "max =  90\n",
            "min =  0\n"
          ]
        }
      ]
    },
    {
      "cell_type": "code",
      "source": [
        "dic = {'John':'A', 'Emily':'A+', 'Betty':'B', 'Mike':'C', 'Ashley':'A'}\n",
        "print(dic.keys())\n",
        "print(dic.values())\n",
        "for keys in dic.keys():\n",
        "  #print(f\"the value corresponding to the key {keys} is {dic[keys]}\")\n",
        "  print (keys, dic[keys])"
      ],
      "metadata": {
        "colab": {
          "base_uri": "https://localhost:8080/"
        },
        "id": "AMjW8sGov9eo",
        "outputId": "95aaeeea-307d-42d1-adb1-e56dc214ef2a"
      },
      "execution_count": null,
      "outputs": [
        {
          "output_type": "stream",
          "name": "stdout",
          "text": [
            "dict_keys(['John', 'Emily', 'Betty', 'Mike', 'Ashley'])\n",
            "dict_values(['A', 'A+', 'B', 'C', 'A'])\n",
            "John A\n",
            "Emily A+\n",
            "Betty B\n",
            "Mike C\n",
            "Ashley A\n"
          ]
        }
      ]
    },
    {
      "cell_type": "code",
      "source": [],
      "metadata": {
        "id": "SdnCzuvQwivs"
      },
      "execution_count": null,
      "outputs": []
    }
  ]
}